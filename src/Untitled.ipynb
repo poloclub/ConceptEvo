{
 "cells": [
  {
   "cell_type": "code",
   "execution_count": 1,
   "id": "e6394c4f-711d-4c64-bc2a-c5da9570b512",
   "metadata": {},
   "outputs": [],
   "source": [
    "import umap\n",
    "from time import time\n",
    "import numpy as np"
   ]
  },
  {
   "cell_type": "code",
   "execution_count": 2,
   "id": "d170a426-80fc-4104-a932-333a7fd68f91",
   "metadata": {},
   "outputs": [],
   "source": [
    "def gen_input_path(layer):\n",
    "    return f'/raid/NeuEvo/data/layer_act/vgg19_pretrained/data/{layer}/img_emb.txt'\n",
    "\n",
    "def gen_output_path(layer, dim):\n",
    "    return f'/raid/NeuEvo/data/layer_act/vgg19_pretrained/data/{layer}/img_emb-dim={dim}.txt'"
   ]
  },
  {
   "cell_type": "code",
   "execution_count": 3,
   "id": "f4668565-46f2-4694-8313-f18130e83076",
   "metadata": {},
   "outputs": [],
   "source": [
    "layers = [\n",
    "    'Sequential_0_Conv2d_0',\n",
    "    'Sequential_0_Conv2d_2',\n",
    "    'Sequential_0_Conv2d_5',\n",
    "    'Sequential_0_Conv2d_7',\n",
    "    'Sequential_0_Conv2d_10',\n",
    "    'Sequential_0_Conv2d_12',\n",
    "    'Sequential_0_Conv2d_14',\n",
    "    'Sequential_0_Conv2d_16',\n",
    "    'Sequential_0_Conv2d_19',\n",
    "    'Sequential_0_Conv2d_21',\n",
    "    'Sequential_0_Conv2d_23',\n",
    "    'Sequential_0_Conv2d_25',\n",
    "    'Sequential_0_Conv2d_28',\n",
    "    'Sequential_0_Conv2d_30',\n",
    "    'Sequential_0_Conv2d_32',\n",
    "    'Sequential_0_Conv2d_34'\n",
    "]"
   ]
  },
  {
   "cell_type": "code",
   "execution_count": null,
   "id": "3176d5d0-3e37-4bb5-85d2-c7f3e1d2c819",
   "metadata": {},
   "outputs": [
    {
     "name": "stdout",
     "output_type": "stream",
     "text": [
      "Sequential_0_Conv2d_0\n",
      "/raid/NeuEvo/data/layer_act/vgg19_pretrained/data/Sequential_0_Conv2d_0/img_emb.txt\n",
      "/raid/NeuEvo/data/layer_act/vgg19_pretrained/data/Sequential_0_Conv2d_0/img_emb-dim=30.txt\n",
      "UMAP(n_components=30, verbose=True)\n",
      "Thu Jan 19 09:36:46 2023 Construct fuzzy simplicial set\n"
     ]
    },
    {
     "name": "stderr",
     "output_type": "stream",
     "text": [
      "OMP: Info #276: omp_set_nested routine deprecated, please use omp_set_max_active_levels instead.\n"
     ]
    },
    {
     "name": "stdout",
     "output_type": "stream",
     "text": [
      "Thu Jan 19 09:36:46 2023 Finding Nearest Neighbors\n",
      "Thu Jan 19 09:36:46 2023 Building RP forest with 62 trees\n",
      "Thu Jan 19 09:37:09 2023 NN descent for 20 iterations\n",
      "\t 1  /  20\n",
      "\t 2  /  20\n",
      "\t 3  /  20\n",
      "\t 4  /  20\n",
      "\tStopping threshold met -- exiting after 4 iterations\n",
      "Thu Jan 19 09:39:30 2023 Finished Nearest Neighbor Search\n",
      "Thu Jan 19 09:39:38 2023 Construct embedding\n"
     ]
    },
    {
     "data": {
      "application/json": {
       "ascii": false,
       "bar_format": "{desc}: {percentage:3.0f}%| {bar} {n_fmt}/{total_fmt} [{elapsed}]",
       "colour": null,
       "elapsed": 0.0204317569732666,
       "initial": 0,
       "n": 0,
       "ncols": null,
       "nrows": 41,
       "postfix": null,
       "prefix": "Epochs completed",
       "rate": null,
       "total": 200,
       "unit": "it",
       "unit_divisor": 1000,
       "unit_scale": false
      },
      "application/vnd.jupyter.widget-view+json": {
       "model_id": "ba1ef4f69e274576826988f5cf378491",
       "version_major": 2,
       "version_minor": 0
      },
      "text/plain": [
       "Epochs completed:   0%|            0/200 [00:00]"
      ]
     },
     "metadata": {},
     "output_type": "display_data"
    },
    {
     "name": "stdout",
     "output_type": "stream",
     "text": [
      "Thu Jan 19 10:13:04 2023 Finished embedding\n",
      "2224.820324 sec\n",
      "Sequential_0_Conv2d_2\n",
      "/raid/NeuEvo/data/layer_act/vgg19_pretrained/data/Sequential_0_Conv2d_2/img_emb.txt\n",
      "/raid/NeuEvo/data/layer_act/vgg19_pretrained/data/Sequential_0_Conv2d_2/img_emb-dim=30.txt\n",
      "UMAP(n_components=30, verbose=True)\n",
      "Thu Jan 19 10:14:00 2023 Construct fuzzy simplicial set\n",
      "Thu Jan 19 10:14:00 2023 Finding Nearest Neighbors\n",
      "Thu Jan 19 10:14:01 2023 Building RP forest with 62 trees\n",
      "Thu Jan 19 10:14:21 2023 NN descent for 20 iterations\n",
      "\t 1  /  20\n",
      "\t 2  /  20\n",
      "\t 3  /  20\n",
      "\t 4  /  20\n",
      "\t 5  /  20\n",
      "\tStopping threshold met -- exiting after 5 iterations\n",
      "Thu Jan 19 10:16:22 2023 Finished Nearest Neighbor Search\n",
      "Thu Jan 19 10:16:28 2023 Construct embedding\n"
     ]
    }
   ],
   "source": [
    "dim = 30\n",
    "for layer in layers:\n",
    "    print(layer)\n",
    "    print(gen_input_path(layer))\n",
    "    print(gen_output_path(layer, dim))\n",
    "    \n",
    "    tic = time()\n",
    "    \n",
    "    Xs = np.loadtxt(gen_input_path(layer))\n",
    "    reducer = umap.UMAP(n_components=dim, verbose=True)\n",
    "    reducer = reducer.fit(Xs)\n",
    "    Xs_reduced = reducer.transform(Xs)\n",
    "    np.savetxt(gen_output_path(layer, dim), Xs_reduced, fmt='%.3f')\n",
    "    \n",
    "    toc = time()\n",
    "    print(f'{toc - tic:2f} sec')"
   ]
  },
  {
   "cell_type": "code",
   "execution_count": null,
   "id": "321d34f2-a5d5-4ced-9861-0d1a2d1b4aed",
   "metadata": {},
   "outputs": [],
   "source": []
  }
 ],
 "metadata": {
  "kernelspec": {
   "display_name": "concept-evolution",
   "language": "python",
   "name": "myenv"
  },
  "language_info": {
   "codemirror_mode": {
    "name": "ipython",
    "version": 3
   },
   "file_extension": ".py",
   "mimetype": "text/x-python",
   "name": "python",
   "nbconvert_exporter": "python",
   "pygments_lexer": "ipython3",
   "version": "3.9.7"
  }
 },
 "nbformat": 4,
 "nbformat_minor": 5
}
