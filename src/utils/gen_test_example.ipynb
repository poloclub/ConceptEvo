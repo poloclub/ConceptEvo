{
 "cells": [
  {
   "cell_type": "markdown",
   "id": "c073cac2-ad57-40f4-8fc2-b9352326df92",
   "metadata": {},
   "source": [
    "## Import packages"
   ]
  },
  {
   "cell_type": "code",
   "execution_count": 1,
   "id": "3e585503-f45c-4809-a196-f8ce84ca8cd2",
   "metadata": {},
   "outputs": [],
   "source": [
    "import os\n",
    "import json\n",
    "import shutil\n",
    "import numpy as np\n",
    "from sklearn.cluster import DBSCAN\n",
    "\n",
    "from utils import TopKKeeper"
   ]
  },
  {
   "cell_type": "markdown",
   "id": "1159723b-4085-4b13-bf61-da080b39ddb9",
   "metadata": {},
   "source": [
    "## Alignability of embeddings"
   ]
  },
  {
   "cell_type": "markdown",
   "id": "7f8dec4b-7d36-4b06-9214-a59dac2aeb35",
   "metadata": {},
   "source": [
    "### Load embeddings"
   ]
  },
  {
   "cell_type": "code",
   "execution_count": 121,
   "id": "6d751b25-4fbf-4114-8fb3-9cb73e121e4c",
   "metadata": {},
   "outputs": [],
   "source": [
    "def load_json(file_path):\n",
    "    with open(file_path, 'r') as f:\n",
    "        data = json.load(f)\n",
    "    return data\n",
    "\n",
    "def save_json(data, file_path):\n",
    "    with open(file_path, 'w') as f:\n",
    "        json.dump(data, f, indent=4)\n",
    "\n",
    "def get_model_info_from_file_name(filename):\n",
    "    model_code = input_name.split('-')[1]\n",
    "    model_name = '-'.join(model_code.split('_')[:-1]).replace('inception-v3', 'inception_v3')\n",
    "    epoch = int(model_code.split('_')[-1])\n",
    "    return model_name, epoch\n",
    "\n",
    "def eu_dist(a, b):\n",
    "    d = np.sum((a - b) ** 2)\n",
    "    return d\n",
    "\n",
    "def cossim(a, b):\n",
    "    return np.dot(a, b) / (np.linalg.norm(a) * np.linalg.norm(b))\n",
    "\n",
    "def save_ex_patches(model_name, neuron_id, ex_patch_dir, output_dir):\n",
    "    \n",
    "    # Input img directory\n",
    "    input_dir = os.path.join(ex_patch_dir, model_name, 'data')\n",
    "    \n",
    "    # Img names\n",
    "    img_name_lst = []\n",
    "    for img_name in os.listdir(input_dir):\n",
    "        if neuron_id + '-' in img_name:\n",
    "            img_name_lst.append(img_name)\n",
    "            \n",
    "    # Copy images\n",
    "    if not os.path.exists(output_dir):\n",
    "        os.mkdir(output_dir)\n",
    "    for img_i, img_name in enumerate(img_name_lst):\n",
    "        img_path = os.path.join(input_dir, img_name)\n",
    "        shutil.copy2(img_path, os.path.join(output_dir, 'img-{}.jpg'.format(img_i)))\n",
    "        \n",
    "def mkdir(path):\n",
    "    if not os.path.exists(path):\n",
    "        os.mkdir(path)"
   ]
  },
  {
   "cell_type": "code",
   "execution_count": 44,
   "id": "d0a2b7b9-c7d6-4285-a0bc-2f119b5f00f4",
   "metadata": {},
   "outputs": [],
   "source": [
    "input_dir = '../../data/embedding/emb-3-base-vgg16-207'\n",
    "ex_patch_dir = '../../data/neuron_feature'\n",
    "\n",
    "models = [\n",
    "    'vgg16-512-0.01-0.9',\n",
    "    'inception_v3-512-0.5-0.9'\n",
    "]\n",
    "\n",
    "emb = {}\n",
    "for input_name in os.listdir(input_dir):\n",
    "    \n",
    "    # Ignore unnecessary models\n",
    "    if 'pretrained' in input_name:\n",
    "        continue\n",
    "    model_name, epoch = get_model_info_from_file_name(input_name)\n",
    "    if model_name not in models:\n",
    "        continue\n",
    "        \n",
    "    # Read embedding data\n",
    "    input_path = os.path.join(input_dir, input_name)\n",
    "    data = load_json(input_path)\n",
    "    \n",
    "    # Save embedding data\n",
    "    emb['{}-{}'.format(model_name, epoch)] = data"
   ]
  },
  {
   "cell_type": "code",
   "execution_count": 129,
   "id": "4ebc059b-ad53-4118-98c8-f3368931c22a",
   "metadata": {},
   "outputs": [
    {
     "data": {
      "text/plain": [
       "['inception_v3-512-0.5-0.9-11',\n",
       " 'vgg16-512-0.01-0.9-207',\n",
       " 'vgg16-512-0.01-0.9-21',\n",
       " 'inception_v3-512-0.5-0.9-3',\n",
       " 'inception_v3-512-0.5-0.9-121',\n",
       " 'vgg16-512-0.01-0.9-5']"
      ]
     },
     "execution_count": 129,
     "metadata": {},
     "output_type": "execute_result"
    }
   ],
   "source": [
    "list(emb.keys())"
   ]
  },
  {
   "cell_type": "markdown",
   "id": "be505227-3525-405a-834e-6a98e0adb447",
   "metadata": {},
   "source": [
    "### 1. Base model's concept alignability"
   ]
  },
  {
   "cell_type": "code",
   "execution_count": 187,
   "id": "11f42bbd-f41c-4d72-8df0-fbcd8c1a4081",
   "metadata": {},
   "outputs": [
    {
     "data": {
      "text/plain": [
       "{'Sequential_0_Conv2d_10': 256,\n",
       " 'Sequential_0_Conv2d_12': 256,\n",
       " 'Sequential_0_Conv2d_14': 256,\n",
       " 'Sequential_0_Conv2d_17': 512,\n",
       " 'Sequential_0_Conv2d_19': 512,\n",
       " 'Sequential_0_Conv2d_21': 512,\n",
       " 'Sequential_0_Conv2d_24': 512,\n",
       " 'Sequential_0_Conv2d_26': 512,\n",
       " 'Sequential_0_Conv2d_28': 512}"
      ]
     },
     "execution_count": 187,
     "metadata": {},
     "output_type": "execute_result"
    }
   ],
   "source": [
    "base_model_name = 'vgg16-512-0.01-0.9-207'\n",
    "base_model_emb = emb[base_model_name]\n",
    "base_model_neurons = list(base_model_emb.keys())\n",
    "\n",
    "num_neurons_by_layer = {}\n",
    "for neuron in base_model_neurons:\n",
    "    layer = neuron.split('-')[0]\n",
    "    layer_idx = int(layer.split('_')[-1])\n",
    "    if layer_idx < 10:\n",
    "        continue\n",
    "    if layer not in num_neurons_by_layer:\n",
    "        num_neurons_by_layer[layer] = 0\n",
    "    num_neurons_by_layer[layer] += 1\n",
    "    \n",
    "num_neurons_by_layer"
   ]
  },
  {
   "cell_type": "code",
   "execution_count": 188,
   "id": "eaa27b32-00a9-43a6-844a-fcf518f6ab2d",
   "metadata": {},
   "outputs": [
    {
     "data": {
      "text/plain": [
       "array(['Sequential_0_Conv2d_19', 'Sequential_0_Conv2d_28',\n",
       "       'Sequential_0_Conv2d_12', 'Sequential_0_Conv2d_19',\n",
       "       'Sequential_0_Conv2d_17', 'Sequential_0_Conv2d_28',\n",
       "       'Sequential_0_Conv2d_10', 'Sequential_0_Conv2d_21',\n",
       "       'Sequential_0_Conv2d_21', 'Sequential_0_Conv2d_28',\n",
       "       'Sequential_0_Conv2d_19', 'Sequential_0_Conv2d_14',\n",
       "       'Sequential_0_Conv2d_17', 'Sequential_0_Conv2d_19',\n",
       "       'Sequential_0_Conv2d_19'], dtype='<U22')"
      ]
     },
     "execution_count": 188,
     "metadata": {},
     "output_type": "execute_result"
    }
   ],
   "source": [
    "layers = list(num_neurons_by_layer.keys())\n",
    "probs = np.array(list(num_neurons_by_layer.values()))\n",
    "probs = probs / np.sum(probs)\n",
    "sampled_layers = np.random.choice(layers, 15, p=probs)\n",
    "sampled_layers"
   ]
  },
  {
   "cell_type": "code",
   "execution_count": 189,
   "id": "4de3a78d-7c47-4889-927c-98d086b9f74e",
   "metadata": {},
   "outputs": [
    {
     "data": {
      "text/plain": [
       "['Sequential_0_Conv2d_10-17',\n",
       " 'Sequential_0_Conv2d_12-228',\n",
       " 'Sequential_0_Conv2d_14-71',\n",
       " 'Sequential_0_Conv2d_17-172',\n",
       " 'Sequential_0_Conv2d_17-412',\n",
       " 'Sequential_0_Conv2d_19-22',\n",
       " 'Sequential_0_Conv2d_19-401',\n",
       " 'Sequential_0_Conv2d_19-25',\n",
       " 'Sequential_0_Conv2d_19-47',\n",
       " 'Sequential_0_Conv2d_19-303',\n",
       " 'Sequential_0_Conv2d_21-326',\n",
       " 'Sequential_0_Conv2d_21-397',\n",
       " 'Sequential_0_Conv2d_28-11',\n",
       " 'Sequential_0_Conv2d_28-267',\n",
       " 'Sequential_0_Conv2d_28-112']"
      ]
     },
     "execution_count": 189,
     "metadata": {},
     "output_type": "execute_result"
    }
   ],
   "source": [
    "sampled_neurons = []\n",
    "for sampled_layer in sampled_layers:\n",
    "    while True:\n",
    "        neuron_idx = np.random.choice(num_neurons_by_layer[sampled_layer])\n",
    "        neuron_id = '{}-{}'.format(sampled_layer, neuron_idx)\n",
    "        if neuron_id not in sampled_neurons:\n",
    "            sampled_neurons.append(neuron_id)\n",
    "            break\n",
    "sorted(sampled_neurons, key=lambda x: int(x.split('-')[0].split('_')[-1]))"
   ]
  },
  {
   "cell_type": "code",
   "execution_count": 190,
   "id": "97e4047a-b04a-4159-8098-f1ee8f701d81",
   "metadata": {},
   "outputs": [],
   "source": [
    "# Find sets\n",
    "parent_dir = '../../data/human-experiment/alignability-example/NeuEvo-base_model'\n",
    "for set_idx, sampled_neuron in enumerate(sampled_neurons):\n",
    "    \n",
    "    # Output dir\n",
    "    output_dir = os.path.join(parent_dir, 'set-{}'.format(set_idx))\n",
    "    mkdir(output_dir)\n",
    "    img_dir = os.path.join(output_dir, 'img')\n",
    "    mkdir(img_dir)\n",
    "    \n",
    "    # Find 5 closest neurons\n",
    "    target_emb = np.array(base_model_emb[sampled_neuron])\n",
    "    cluster = TopKKeeper(5)\n",
    "    for neuron in base_model_emb:\n",
    "        neuron_emb = np.array(base_model_emb[neuron])\n",
    "        cos = cossim(neuron_emb, target_emb)\n",
    "        d = -eu_dist(neuron_emb, target_emb)\n",
    "        cluster.insert(cos, key=neuron)\n",
    "    neuron_set = cluster.keys\n",
    "    \n",
    "    # Choose a random neuron\n",
    "    while True:\n",
    "        rand_neuron = np.random.choice(base_model_neurons)\n",
    "        if rand_neuron not in neuron_set:\n",
    "            break\n",
    "    neuron_set.append(rand_neuron)\n",
    "    np.random.shuffle(neuron_set)\n",
    "    rand_idx = neuron_set.index(rand_neuron)\n",
    "    \n",
    "    # Make neuron info and save it\n",
    "    neurons = {}\n",
    "    for i, neuron in enumerate(neuron_set):\n",
    "        neurons['neuron-{}'.format(i)] = {\n",
    "            'model': base_model_name,\n",
    "            'neuron': neuron,\n",
    "            'random': 'yes' if i == rand_idx else 'no'\n",
    "        }\n",
    "    path = os.path.join(output_dir, 'neuron.json')\n",
    "    save_json(neurons, path)\n",
    "\n",
    "    # Save images\n",
    "    for neuron_idx, neuron in enumerate(neuron_set):\n",
    "        final_dir = os.path.join(img_dir, 'neuron-{}'.format(neuron_idx))\n",
    "        mkdir(final_dir)\n",
    "        save_ex_patches(base_model_name, neuron, ex_patch_dir, final_dir)"
   ]
  },
  {
   "cell_type": "markdown",
   "id": "32883dbe-8404-4bd2-82e0-6ceee49f926f",
   "metadata": {},
   "source": [
    "### 2. Random alignability "
   ]
  },
  {
   "cell_type": "code",
   "execution_count": 191,
   "id": "feec2715-87ce-44f7-8a9d-60c6e5f3cc39",
   "metadata": {},
   "outputs": [],
   "source": [
    "parent_dir = '../../data/human-experiment/alignability-example/Random'\n",
    "for set_idx in range(20):\n",
    "    \n",
    "    # Output dir\n",
    "    output_dir = os.path.join(parent_dir, 'set-{}'.format(set_idx))\n",
    "    mkdir(output_dir)\n",
    "    img_dir = os.path.join(output_dir, 'img')\n",
    "    mkdir(img_dir)\n",
    "    \n",
    "    # Sample neurons\n",
    "    neuron_set = np.random.choice(base_model_neurons, 6, replace=False)\n",
    "    \n",
    "    # Make neuron info and save it\n",
    "    neurons = {}\n",
    "    for i, neuron in enumerate(neuron_set):\n",
    "        neurons['neuron-{}'.format(i)] = {\n",
    "            'model': base_model_name,\n",
    "            'neuron': neuron,\n",
    "            'random': 'yes'\n",
    "        }\n",
    "    path = os.path.join(output_dir, 'neuron.json')\n",
    "    save_json(neurons, path)\n",
    "    \n",
    "    # Save images\n",
    "    for neuron_idx, neuron in enumerate(neuron_set):\n",
    "        final_dir = os.path.join(img_dir, 'neuron-{}'.format(neuron_idx))\n",
    "        mkdir(final_dir)\n",
    "        save_ex_patches(base_model_name, neuron, ex_patch_dir, final_dir)"
   ]
  },
  {
   "cell_type": "markdown",
   "id": "7663ca1f-df89-407b-9a4d-f28fc32e767f",
   "metadata": {},
   "source": [
    "### 3. Same model, different epoch"
   ]
  },
  {
   "cell_type": "code",
   "execution_count": 192,
   "id": "e2db2aa3-6c7b-43a8-a697-05678dd0f7c0",
   "metadata": {},
   "outputs": [
    {
     "data": {
      "text/plain": [
       "['vgg16-512-0.01-0.9', 'inception_v3-512-0.5-0.9']"
      ]
     },
     "execution_count": 192,
     "metadata": {},
     "output_type": "execute_result"
    }
   ],
   "source": [
    "models"
   ]
  },
  {
   "cell_type": "code",
   "execution_count": 193,
   "id": "e908b8a7-e3fc-451d-8cec-468f957b8539",
   "metadata": {},
   "outputs": [
    {
     "data": {
      "text/plain": [
       "['inception_v3-512-0.5-0.9-11',\n",
       " 'vgg16-512-0.01-0.9-207',\n",
       " 'vgg16-512-0.01-0.9-21',\n",
       " 'inception_v3-512-0.5-0.9-3',\n",
       " 'inception_v3-512-0.5-0.9-121',\n",
       " 'vgg16-512-0.01-0.9-5']"
      ]
     },
     "execution_count": 193,
     "metadata": {},
     "output_type": "execute_result"
    }
   ],
   "source": [
    "list(emb.keys())"
   ]
  },
  {
   "cell_type": "code",
   "execution_count": 194,
   "id": "84c8490a-d464-4cf5-8480-6eaa948c9c3a",
   "metadata": {},
   "outputs": [],
   "source": [
    "model_to_epochs = {\n",
    "    'vgg16-512-0.01-0.9': [5, 21, 207],\n",
    "    'inception_v3-512-0.5-0.9': [3, 11, 121],\n",
    "}"
   ]
  },
  {
   "cell_type": "code",
   "execution_count": 195,
   "id": "ba88fce5-6515-40eb-ab6b-7da6f0691ab9",
   "metadata": {},
   "outputs": [],
   "source": [
    "num_ex_per_model = 16\n",
    "parent_dir = '../../data/human-experiment/alignability-example/NeuEvo-same_model-diff_epoch'\n",
    "\n",
    "for model_idx, model_name in enumerate([models[0]]):\n",
    "    \n",
    "    # Ready\n",
    "    epochs = model_to_epochs[model_name]\n",
    "    model_neurons = list(emb['{}-{}'.format(model_name, epochs[0])].keys())\n",
    "    num_neurons_by_layer = {}\n",
    "    for neuron in model_neurons:\n",
    "        layer = neuron.split('-')[0]\n",
    "        layer_idx = int(layer.split('_')[-1])\n",
    "        if layer_idx < 10:\n",
    "            continue\n",
    "        if layer not in num_neurons_by_layer:\n",
    "            num_neurons_by_layer[layer] = 0\n",
    "        num_neurons_by_layer[layer] += 1\n",
    "    layers = list(num_neurons_by_layer.keys())\n",
    "    probs = np.array(list(num_neurons_by_layer.values()))\n",
    "    probs = probs / np.sum(probs)\n",
    "    \n",
    "    # Embedding of all epochs\n",
    "    model_emb = {}\n",
    "    for epoch in epochs:\n",
    "        model_id = '{}-{}'.format(model_name, epoch)\n",
    "        for neuron in emb[model_id]:\n",
    "            neuron_id = '{}-{}'.format(epoch, neuron)\n",
    "            model_emb[neuron_id] = emb[model_id][neuron]\n",
    "    \n",
    "    # Generate sets for each model\n",
    "    for ex_idx in range(num_ex_per_model):\n",
    "        \n",
    "        # Output dir\n",
    "        set_idx = num_ex_per_model * model_idx + ex_idx\n",
    "        output_dir = os.path.join(parent_dir, 'set-{}'.format(set_idx))\n",
    "        mkdir(output_dir)\n",
    "        img_dir = os.path.join(output_dir, 'img')\n",
    "        mkdir(img_dir)\n",
    "        \n",
    "        # Sample neuron in the last epoch\n",
    "        sampled_layer = np.random.choice(layers, p=probs)\n",
    "        sampled_neuron_idx = np.random.choice(num_neurons_by_layer[sampled_layer])\n",
    "        sampled_neuron_id = '{}-{}'.format(sampled_layer, sampled_neuron_idx)\n",
    "        sampled_neuron_epoch = epochs[-1]\n",
    "        sampled_neuron_emb = model_emb['{}-{}'.format(sampled_neuron_epoch, sampled_neuron_id)]\n",
    "        \n",
    "        # Find 5 closest neurons\n",
    "        target_emb = sampled_neuron_emb\n",
    "        cluster = TopKKeeper(5)\n",
    "        for neuron in model_emb:\n",
    "            neuron_emb = np.array(model_emb[neuron])\n",
    "            cos = cossim(neuron_emb, target_emb)\n",
    "            d = -eu_dist(neuron_emb, target_emb)\n",
    "            cluster.insert(cos, key=neuron)\n",
    "        neuron_set = cluster.keys\n",
    "        \n",
    "        # Choose a random neuron\n",
    "        all_neurons = list(model_emb.keys())\n",
    "        while True:\n",
    "            rand_neuron = np.random.choice(all_neurons)\n",
    "            if rand_neuron not in neuron_set:\n",
    "                break\n",
    "        neuron_set.append(rand_neuron)\n",
    "        np.random.shuffle(neuron_set)\n",
    "        rand_idx = neuron_set.index(rand_neuron)\n",
    "        \n",
    "        # Make neuron info and save it\n",
    "        neurons = {}\n",
    "        for i, neuron in enumerate(neuron_set):\n",
    "            neuron_model_epoch = int(neuron.split('-')[0])\n",
    "            neuron_id = '-'.join(neuron.split('-')[1:])\n",
    "            neuron_model = '{}-{}'.format(model_name, neuron_model_epoch)\n",
    "            neurons['neuron-{}'.format(i)] = {\n",
    "                'model': neuron_model,\n",
    "                'neuron': neuron_id,\n",
    "                'random': 'yes' if i == rand_idx else 'no'\n",
    "            }\n",
    "        path = os.path.join(output_dir, 'neuron.json')\n",
    "        save_json(neurons, path)\n",
    "        \n",
    "        # Save images\n",
    "        for neuron_idx, neuron in enumerate(neuron_set):\n",
    "            neuron_model_epoch = int(neuron.split('-')[0])\n",
    "            neuron_model = '{}-{}'.format(model_name, neuron_model_epoch)\n",
    "            neuron = '-'.join(neuron.split('-')[1:])\n",
    "            final_dir = os.path.join(img_dir, 'neuron-{}'.format(neuron_idx))\n",
    "            mkdir(final_dir)\n",
    "            save_ex_patches(neuron_model, neuron, ex_patch_dir, final_dir)"
   ]
  },
  {
   "cell_type": "markdown",
   "id": "b55a15a0-8968-482b-a142-078e2a0298f7",
   "metadata": {},
   "source": [
    "### 4. Different models, different epochs "
   ]
  },
  {
   "cell_type": "code",
   "execution_count": 196,
   "id": "f5c85000-5e9c-4ba8-b32c-a8fcc40e86bf",
   "metadata": {},
   "outputs": [],
   "source": [
    "parent_dir = '../../data/human-experiment/alignability-example/NeuEvo-diff_model-diff_epoch'"
   ]
  },
  {
   "cell_type": "code",
   "execution_count": 197,
   "id": "2bcd52b1-bc9c-47e0-8e0c-305bbcc2e12c",
   "metadata": {},
   "outputs": [
    {
     "data": {
      "text/plain": [
       "['vgg16-512-0.01-0.9', 'inception_v3-512-0.5-0.9']"
      ]
     },
     "execution_count": 197,
     "metadata": {},
     "output_type": "execute_result"
    }
   ],
   "source": [
    "models"
   ]
  },
  {
   "cell_type": "code",
   "execution_count": 198,
   "id": "e795f038-b8d9-4cf0-94e0-38c4f8daee2a",
   "metadata": {},
   "outputs": [
    {
     "data": {
      "text/plain": [
       "['inception_v3-512-0.5-0.9-11',\n",
       " 'vgg16-512-0.01-0.9-207',\n",
       " 'vgg16-512-0.01-0.9-21',\n",
       " 'inception_v3-512-0.5-0.9-3',\n",
       " 'inception_v3-512-0.5-0.9-121',\n",
       " 'vgg16-512-0.01-0.9-5']"
      ]
     },
     "execution_count": 198,
     "metadata": {},
     "output_type": "execute_result"
    }
   ],
   "source": [
    "list(emb.keys())"
   ]
  },
  {
   "cell_type": "code",
   "execution_count": 199,
   "id": "8d7ef6e7-0d2a-410c-8ba8-6649a6d00147",
   "metadata": {},
   "outputs": [],
   "source": [
    "model_to_epochs = {\n",
    "    'vgg16-512-0.01-0.9': [5, 21, 207],\n",
    "    'inception_v3-512-0.5-0.9': [3, 11, 121],\n",
    "}"
   ]
  },
  {
   "cell_type": "code",
   "execution_count": 200,
   "id": "999b50cc-6717-4d3c-b769-291c03e0e492",
   "metadata": {},
   "outputs": [
    {
     "data": {
      "text/plain": [
       "{'Sequential_0_Conv2d_10': 256,\n",
       " 'Sequential_0_Conv2d_12': 256,\n",
       " 'Sequential_0_Conv2d_14': 256,\n",
       " 'Sequential_0_Conv2d_17': 512,\n",
       " 'Sequential_0_Conv2d_19': 512,\n",
       " 'Sequential_0_Conv2d_21': 512,\n",
       " 'Sequential_0_Conv2d_24': 512,\n",
       " 'Sequential_0_Conv2d_26': 512,\n",
       " 'Sequential_0_Conv2d_28': 512}"
      ]
     },
     "execution_count": 200,
     "metadata": {},
     "output_type": "execute_result"
    }
   ],
   "source": [
    "base_model_name = 'vgg16-512-0.01-0.9-207'\n",
    "base_model_emb = emb[base_model_name]\n",
    "base_model_neurons = list(base_model_emb.keys())\n",
    "\n",
    "num_neurons_by_layer = {}\n",
    "for neuron in base_model_neurons:\n",
    "    layer = neuron.split('-')[0]\n",
    "    layer_idx = int(layer.split('_')[-1])\n",
    "    if layer_idx < 10:\n",
    "        continue\n",
    "    if layer not in num_neurons_by_layer:\n",
    "        num_neurons_by_layer[layer] = 0\n",
    "    num_neurons_by_layer[layer] += 1\n",
    "    \n",
    "num_neurons_by_layer"
   ]
  },
  {
   "cell_type": "code",
   "execution_count": 201,
   "id": "6e95db18-dbbc-45bd-8225-18d31fd18b9f",
   "metadata": {},
   "outputs": [],
   "source": [
    "layers = list(num_neurons_by_layer.keys())\n",
    "probs = np.array(list(num_neurons_by_layer.values()))\n",
    "probs = probs / np.sum(probs)"
   ]
  },
  {
   "cell_type": "code",
   "execution_count": 203,
   "id": "72e16fa3-c398-43f8-bf3d-5fd3b9f2772e",
   "metadata": {},
   "outputs": [],
   "source": [
    "for set_idx in range(16):\n",
    "    \n",
    "    # Output dir\n",
    "    output_dir = os.path.join(parent_dir, 'set-{}'.format(set_idx))\n",
    "    mkdir(output_dir)\n",
    "    img_dir = os.path.join(output_dir, 'img')\n",
    "    mkdir(img_dir)\n",
    "\n",
    "    # Ready\n",
    "    all_embs = {}\n",
    "    for model in emb:\n",
    "        for neuron in emb[model]:\n",
    "            neuron_id = '{}___{}'.format(model, neuron)\n",
    "            all_embs[neuron_id] = emb[model][neuron]\n",
    "    all_neurons = list(all_embs.keys())\n",
    "    \n",
    "    # Sample neuron\n",
    "    sampled_layer = np.random.choice(layers, p=probs)\n",
    "    sampled_neuron_idx = np.random.choice(num_neurons_by_layer[sampled_layer])\n",
    "    sampled_neuron_id = '{}-{}'.format(sampled_layer, sampled_neuron_idx)\n",
    "    sampled_neuron_emb = all_embs['{}___{}'.format(base_model_name, sampled_neuron_id)]\n",
    "            \n",
    "    # Find 5 closest neurons\n",
    "    target_emb = sampled_neuron_emb\n",
    "    cluster = TopKKeeper(5)\n",
    "    for neuron in all_embs:\n",
    "        neuron_emb = np.array(all_embs[neuron])\n",
    "        cos = cossim(neuron_emb, target_emb)\n",
    "        d = -eu_dist(neuron_emb, target_emb)\n",
    "        cluster.insert(cos, key=neuron)\n",
    "    neuron_set = cluster.keys\n",
    "        \n",
    "    # Choose a random neuron\n",
    "    all_neurons = list(all_embs.keys())\n",
    "    while True:\n",
    "        rand_neuron = np.random.choice(all_neurons)\n",
    "        if rand_neuron not in neuron_set:\n",
    "            break\n",
    "    neuron_set.append(rand_neuron)\n",
    "    np.random.shuffle(neuron_set)\n",
    "    rand_idx = neuron_set.index(rand_neuron)\n",
    "        \n",
    "    # Make neuron info and save it\n",
    "    neurons = {}\n",
    "    for i, neuron in enumerate(neuron_set):\n",
    "        model_name = neuron.split('___')[0]\n",
    "        neuron_id = neuron.split('___')[1]\n",
    "        neurons['neuron-{}'.format(i)] = {\n",
    "            'model': model_name,\n",
    "            'neuron': neuron_id,\n",
    "            'random': 'yes' if i == rand_idx else 'no'\n",
    "        }\n",
    "    path = os.path.join(output_dir, 'neuron.json')\n",
    "    save_json(neurons, path)\n",
    "        \n",
    "    # Save images\n",
    "    for neuron_idx, neuron in enumerate(neuron_set):\n",
    "        model_name = neuron.split('___')[0]\n",
    "        neuron_id = neuron.split('___')[1]\n",
    "        final_dir = os.path.join(img_dir, 'neuron-{}'.format(neuron_idx))\n",
    "        mkdir(final_dir)\n",
    "        save_ex_patches(model_name, neuron_id, ex_patch_dir, final_dir)"
   ]
  },
  {
   "cell_type": "markdown",
   "id": "0f4ba7e4-6ebf-4827-a59e-8f694b77e427",
   "metadata": {},
   "source": [
    "### 5. Hand-picked"
   ]
  },
  {
   "cell_type": "code",
   "execution_count": 257,
   "id": "deb4b7ef-6a50-4805-9700-eed689e966bd",
   "metadata": {},
   "outputs": [],
   "source": [
    "# hand_picked = {\n",
    "#     'cyan': ['BasicConv2d_0-0', 'BasicConv2d_0-2', 'BasicConv2d_0-17', 'InceptionA_9-19', 'InceptionB_10-760'],\n",
    "#     'blue': ['BasicConv2d_0-4', 'BasicConv2d_0-14', 'BasicConv2d_1-20', 'InceptionA_7-131', 'InceptionA_9-280'],\n",
    "#     'bright-red-yellow': ['BasicConv2d_0-30', 'BasicConv2d_2-3', 'InceptionA_8-248', 'InceptionA_9-226', 'InceptionB_10-706'],\n",
    "#     'cross': ['BasicConv2d_5-54', 'BasicConv2d_5-125', 'InceptionA_7-21', 'InceptionA_7-52', 'InceptionA_7-60'],\n",
    "#     'green': ['InceptionA_7-113', 'InceptionA_7-251', 'InceptionA_8-27', 'InceptionA_8-228', 'InceptionA_8-236'],\n",
    "#     'corner': ['InceptionA_7-194', 'InceptionA_7-204', 'InceptionA_7-217', 'InceptionA_8-60', 'InceptionA_8-121'],\n",
    "#     'eyes': ['InceptionB_10-192', 'InceptionB_10-251', 'InceptionB_10-576', 'InceptionC_11-55', 'InceptionC_11-201'],\n",
    "#     'letter': ['InceptionB_10-241', 'InceptionB_10-491', 'InceptionB_10-707', 'InceptionC_11-68', 'InceptionC_11-411'],\n",
    "#     'nose': ['InceptionB_10-478', 'InceptionC_11-263', 'InceptionC_11-623', 'InceptionC_11-638', 'InceptionC_12-136-6'],\n",
    "#     'human': ['InceptionC_11-195', 'InceptionC_11-249-7', 'InceptionC_11-680', 'InceptionC_12-110', 'InceptionC_12-325'],\n",
    "#     'diagonal': ['InceptionC_11-578', 'InceptionC_11-614', 'InceptionC_11-632', 'InceptionC_11-641', 'InceptionC_11-646'],\n",
    "#     'spreading': ['InceptionC_11-262', 'InceptionC_11-593', 'InceptionC_12-47', 'InceptionC_12-264', 'InceptionC_12-279'],\n",
    "#     'stripe-check': ['InceptionC_11-605', 'InceptionC_11-651', 'InceptionC_11-677', 'InceptionC_11-706', 'InceptionC_11-731'],\n",
    "#     'hair': ['InceptionC_12-217', 'InceptionC_12-211', 'InceptionC_12-249', 'InceptionC_12-359', 'InceptionC_12-361'],\n",
    "#     'head': ['InceptionC_12-301', 'InceptionC_12-305', 'InceptionC_12-313', 'InceptionC_12-327', 'InceptionC_12-388'],\n",
    "#     'red': ['InceptionC_12-416', 'InceptionC_12-424', 'InceptionC_12-432', 'InceptionC_12-441', 'InceptionC_12-447'],\n",
    "#     'circle': ['InceptionC_11-568', 'InceptionC_11-732', 'InceptionC_11-750', 'InceptionC_12-645', 'InceptionC_12-661'],\n",
    "#     'roof': ['InceptionC_11-288', 'InceptionC_12-276', 'InceptionC_12-493', 'InceptionC_12-658', 'InceptionC_12-731'],\n",
    "#     'dog': ['InceptionC_12-506', 'InceptionC_12-525', 'InceptionC_12-529', 'InceptionC_12-744', 'InceptionC_13-264'],\n",
    "#     'leaves': ['InceptionC_12-667', 'InceptionC_12-699', 'InceptionC_12-721', 'InceptionC_13-602', 'InceptionC_13-667'],\n",
    "#     'sky': ['InceptionC_11-594', 'InceptionC_12-396', 'InceptionC_12-403', 'InceptionC_13-642', 'InceptionC_14-340'],\n",
    "#     'watermark': ['InceptionA_7-223', 'InceptionA_8-31', 'InceptionA_8-115', 'InceptionC_13-208', 'InceptionC_13-380'],\n",
    "#     'candle': ['InceptionA_7-97', 'InceptionA_7-111', 'InceptionA_8-286', 'InceptionC_14-650', 'InceptionD_16-1251'],\n",
    "#     'grass': ['InceptionC_12-395', 'InceptionC_12-433', 'InceptionC_12-482', 'InceptionC_14-592', 'InceptionC_12-62'],\n",
    "#     'fingers': ['InceptionC_12-619', 'InceptionC_12-669', 'InceptionC_13-491', 'InceptionC_13-561', 'InceptionC_13-738'],\n",
    "#     'ball': ['InceptionE_18-535', 'InceptionE_18-537', 'InceptionE_18-567', 'InceptionE_18-612', 'InceptionE_18-640'],\n",
    "#     'vertical': ['InceptionC_11-619', 'InceptionC_11-624', 'InceptionC_12-156', 'InceptionC_11-747', 'InceptionE_17-1374'],\n",
    "#     'x-shape': ['BasicConv2d_5-125', 'InceptionC_11-259', 'InceptionC_11-305', 'InceptionC_12-335', 'InceptionE_17-1347'],\n",
    "#     'yellow': ['BasicConv2d_0-22', 'BasicConv2d_0-28', 'InceptionA_9-160', 'InceptionA_7-119', 'InceptionE_18-1049'],\n",
    "#     'frame': ['BasicConv2d_4-33', 'BasicConv2d_4-35', 'BasicConv2d_4-39', 'InceptionA_9-118', 'InceptionA_9-119'],\n",
    "#     'bird': ['InceptionC_12-444', 'InceptionC_13-213', 'InceptionC_13-403', 'InceptionC_13-564', 'InceptionE_17-1967'],\n",
    "#     'blue-point': ['BasicConv2d_0-4', 'BasicConv2d_0-14', 'BasicConv2d_1-20', 'InceptionC_12-504', 'InceptionC_12-562']\n",
    "# }"
   ]
  },
  {
   "cell_type": "code",
   "execution_count": 258,
   "id": "99e2d2f9-9989-43b7-9f6b-0176aecf8f9a",
   "metadata": {},
   "outputs": [],
   "source": [
    "model = base_model_name"
   ]
  },
  {
   "cell_type": "code",
   "execution_count": 176,
   "id": "b6211be2-e998-4e8f-bb46-067318c9d309",
   "metadata": {},
   "outputs": [
    {
     "data": {
      "text/plain": [
       "10"
      ]
     },
     "execution_count": 180,
     "metadata": {},
     "output_type": "execute_result"
    }
   ],
   "source": [
    "hand_picked = {\n",
    "    'animal': [\"Sequential_0_Conv2d_17-214\", \"Sequential_0_Conv2d_17-259\", \"Sequential_0_Conv2d_17-272\", \"Sequential_0_Conv2d_17-284\",\"Sequential_0_Conv2d_19-140\"],\n",
    "    'beak': [\"Sequential_0_Conv2d_19-181\",\"Sequential_0_Conv2d_19-196\",\"Sequential_0_Conv2d_19-245\",\"Sequential_0_Conv2d_19-427\",\"Sequential_0_Conv2d_19-438\"],\n",
    "    'bird': [\"Sequential_0_Conv2d_24-504\",\"Sequential_0_Conv2d_24-310\",\"Sequential_0_Conv2d_24-384\",\"Sequential_0_Conv2d_24-394\",\"Sequential_0_Conv2d_24-401\"],\n",
    "    'butterfly': [\"Sequential_0_Conv2d_19-330\",\"Sequential_0_Conv2d_14-217\",\"Sequential_0_Conv2d_17-321\",\"Sequential_0_Conv2d_19-216\",\"Sequential_0_Conv2d_21-62\"],\n",
    "    'car': [\"Sequential_0_Conv2d_24-237\",\"Sequential_0_Conv2d_24-395\",\"Sequential_0_Conv2d_26-75\",\"Sequential_0_Conv2d_26-77\",\"Sequential_0_Conv2d_28-324\"],\n",
    "    'check': [\"Sequential_0_Conv2d_17-171\",\"Sequential_0_Conv2d_17-223\",\"Sequential_0_Conv2d_17-249\",\"Sequential_0_Conv2d_17-262\",\"Sequential_0_Conv2d_17-352\"],\n",
    "    'circles': [\"Sequential_0_Conv2d_17-484\",\"Sequential_0_Conv2d_17-498\",\"Sequential_0_Conv2d_17-499\",\"Sequential_0_Conv2d_17-508\",\"Sequential_0_Conv2d_19-5\"],\n",
    "    'clock': [\"Sequential_0_Conv2d_28-406\",\"Sequential_0_Conv2d_28-336\",\"Sequential_0_Conv2d_28-132\",\"Sequential_0_Conv2d_28-87\",\"Sequential_0_Conv2d_28-31\"],\n",
    "    'dog1': [\"Sequential_0_Conv2d_24-505\",\"Sequential_0_Conv2d_24-311\",\"Sequential_0_Conv2d_24-317\",\"Sequential_0_Conv2d_24-318\",\"Sequential_0_Conv2d_24-324\"],\n",
    "    'eyes': [\"Sequential_0_Conv2d_17-444\",\"Sequential_0_Conv2d_17-459\",\"Sequential_0_Conv2d_17-509\",\"Sequential_0_Conv2d_17-511\",\"Sequential_0_Conv2d_19-47\"],\n",
    "}\n",
    "len(hand_picked)"
   ]
  },
  {
   "cell_type": "code",
   "execution_count": 177,
   "id": "6c675396-d248-48b7-a19d-040efd64bda5",
   "metadata": {},
   "outputs": [],
   "source": [
    "parent_dir = '../../data/human-experiment/alignability-example/Hand-picked'"
   ]
  },
  {
   "cell_type": "code",
   "execution_count": 184,
   "id": "1884bd97-38a1-4710-a3df-4267650909da",
   "metadata": {},
   "outputs": [],
   "source": [
    "for i, key in enumerate(hand_picked):\n",
    "    \n",
    "    picked_neurons = hand_picked[key][:]\n",
    "    \n",
    "    # Sample neuron\n",
    "    sampled_layer = np.random.choice(layers, p=probs)\n",
    "    sampled_neuron_idx = np.random.choice(num_neurons_by_layer[sampled_layer])\n",
    "    sampled_neuron_id = '{}-{}'.format(sampled_layer, sampled_neuron_idx)\n",
    "    \n",
    "    # Shuffle neurons\n",
    "    picked_neurons.append(sampled_neuron_id)\n",
    "    np.random.shuffle(picked_neurons)\n",
    "    rand_neuron_idx = picked_neurons.index(sampled_neuron_id)\n",
    "    \n",
    "    # Generate output file\n",
    "    dir_name = 'set-{}'.format(i)\n",
    "    dir_path = os.path.join(parent_dir, dir_name)\n",
    "    mkdir(dir_path)\n",
    "    img_dir_path = os.path.join(dir_path, 'img')\n",
    "    mkdir(img_dir_path)\n",
    "        \n",
    "    # Save neurons\n",
    "    out_path = os.path.join(dir_path, 'neuron.json')\n",
    "    neuron_output = {}\n",
    "    for neuron_i, neuron_id in enumerate(picked_neurons):\n",
    "        if neuron_i == rand_neuron_idx:\n",
    "            neuron_output['neuron-{}'.format(neuron_i)] = {'model': model, 'neuron': neuron_id, 'random': 'yes'}\n",
    "        else:\n",
    "            neuron_output['neuron-{}'.format(neuron_i)] = {'model': model, 'neuron': neuron_id, 'random': 'no'}\n",
    "    with open(out_path, 'w') as f:\n",
    "        json.dump(neuron_output, f, indent=4)\n",
    "    \n",
    "    # Save example patches\n",
    "    for neuron_idx, neuron in enumerate(picked_neurons):\n",
    "        final_dir = os.path.join(img_dir_path, 'neuron-{}'.format(neuron_idx))\n",
    "        mkdir(final_dir)\n",
    "        save_ex_patches(base_model_name, neuron, ex_patch_dir, final_dir)"
   ]
  },
  {
   "cell_type": "code",
   "execution_count": 183,
   "id": "b31849b9-2434-4115-80fc-7e98dfa49aad",
   "metadata": {},
   "outputs": [
    {
     "data": {
      "text/plain": [
       "'../../data/human-experiment/alignability-example/NeuEvo-diff_model-diff_epoch/set-15/img'"
      ]
     },
     "execution_count": 183,
     "metadata": {},
     "output_type": "execute_result"
    }
   ],
   "source": [
    "img_dir"
   ]
  },
  {
   "cell_type": "markdown",
   "id": "b8408c0d-679a-4483-ac58-4ec54ed39f96",
   "metadata": {},
   "source": [
    "### Find Evolution"
   ]
  },
  {
   "cell_type": "code",
   "execution_count": 276,
   "id": "2222cf74-b93d-424a-a85b-96efb2defdb6",
   "metadata": {},
   "outputs": [],
   "source": [
    "label_output_dir = '../../data/human-experiment/evolution-label-example'\n",
    "ex_patch_dir = '../../data/neuron_feature'"
   ]
  },
  {
   "cell_type": "code",
   "execution_count": 273,
   "id": "4f0143a7-f024-4027-a27f-89eda1fe5da3",
   "metadata": {},
   "outputs": [],
   "source": [
    "num_samples_per_model = 25\n",
    "models = [\n",
    "    ['inception-v3-512-0.5-0.9', [3, 11, 121]],\n",
    "    ['inception-v3-512-1.5-0.9', [4, 69, 71]],\n",
    "    ['vgg16-512-0.01-0.9', [5, 21, 207]],\n",
    "    ['vgg16-512-0.05-0.9', [3, 11, 13]]\n",
    "]"
   ]
  },
  {
   "cell_type": "code",
   "execution_count": 286,
   "id": "c7451d31-90d2-435b-86c2-010e4fa911aa",
   "metadata": {},
   "outputs": [],
   "source": [
    "for model_name, epochs in models:\n",
    "    \n",
    "    # Generate output path\n",
    "    model_dir_path = os.path.join(label_output_dir, model_name)\n",
    "    if not os.path.exists(model_dir_path):\n",
    "        os.mkdir(model_dir_path)\n",
    "    \n",
    "    # Sample neurons\n",
    "    all_neurons = list(emb[model_name][epochs[0]].keys())\n",
    "    sampled_neurons = np.random.choice(all_neurons, num_samples_per_model, replace=False)\n",
    "    \n",
    "    # Generate data\n",
    "    for i, sampled_neuron in enumerate(sampled_neurons):\n",
    "        \n",
    "        # Generate subdir path\n",
    "        sub_dir_path = os.path.join(model_dir_path, 'set-{}'.format(i))\n",
    "        if not os.path.exists(sub_dir_path):\n",
    "            os.mkdir(sub_dir_path)\n",
    "            \n",
    "        # Write neuron info\n",
    "        with open(os.path.join(sub_dir_path, 'neuron.json'), 'w') as f:\n",
    "            neuron_info = {\n",
    "                'model': model_name,\n",
    "                'epochs': epochs,\n",
    "                'neuron': sampled_neuron\n",
    "            }\n",
    "            json.dump(neuron_info, f, indent=4)\n",
    "        \n",
    "        # Save image\n",
    "        for epoch_i, epoch in enumerate(epochs):\n",
    "            \n",
    "            # Directory to save images\n",
    "            img_dir_path = os.path.join(\n",
    "                sub_dir_path,\n",
    "                'stage-{}'.format(epoch_i)\n",
    "            )\n",
    "            if not os.path.exists(img_dir_path):\n",
    "                os.mkdir(img_dir_path)\n",
    "                \n",
    "            # Directory path for example patches\n",
    "            model_code = '{}-{}'.format(model_name, epoch)\n",
    "            ex_patch_dir_path = os.path.join(ex_patch_dir, model_code, 'data')\n",
    "            ex_patch_dir_path = ex_patch_dir_path.replace('_', '-').replace('inception-v3', 'inception_v3')\n",
    "            ex_patch_dir_path = ex_patch_dir_path.replace('neuron-feature', 'neuron_feature')\n",
    "            \n",
    "            # Image paths\n",
    "            img_name_lst = []\n",
    "            for img_name in os.listdir(ex_patch_dir_path):\n",
    "                if sampled_neuron + '-' in img_name:\n",
    "                    img_name_lst.append(img_name)\n",
    "\n",
    "            img_path_lst = []\n",
    "            for img_name in img_name_lst:\n",
    "                img_path_lst.append(os.path.join(ex_patch_dir_path, img_name))\n",
    "\n",
    "            # Save images\n",
    "            for img_i, img_path in enumerate(img_path_lst):\n",
    "                shutil.copy2(img_path, os.path.join(img_dir_path, 'img-{}.jpg'.format(img_i)))\n",
    "        "
   ]
  },
  {
   "cell_type": "code",
   "execution_count": null,
   "id": "7793a3d3-14a6-41bd-a722-459803b057fb",
   "metadata": {},
   "outputs": [],
   "source": []
  }
 ],
 "metadata": {
  "kernelspec": {
   "display_name": "neuevo",
   "language": "python",
   "name": "neuevo"
  },
  "language_info": {
   "codemirror_mode": {
    "name": "ipython",
    "version": 3
   },
   "file_extension": ".py",
   "mimetype": "text/x-python",
   "name": "python",
   "nbconvert_exporter": "python",
   "pygments_lexer": "ipython3",
   "version": "3.9.7"
  }
 },
 "nbformat": 4,
 "nbformat_minor": 5
}
