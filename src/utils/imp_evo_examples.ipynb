{
 "cells": [
  {
   "cell_type": "code",
   "execution_count": 1,
   "id": "e764120f-39ce-4ac0-8f1e-d7ebe1a43aae",
   "metadata": {},
   "outputs": [],
   "source": [
    "import os\n",
    "import json\n",
    "import numpy as np\n",
    "import matplotlib.pyplot as plt"
   ]
  },
  {
   "cell_type": "code",
   "execution_count": 2,
   "id": "a5f81a05-94ff-448c-89db-35e46a839850",
   "metadata": {},
   "outputs": [],
   "source": [
    "def load_json(file_path):\n",
    "    if not os.path.exists(file_path):\n",
    "        return None\n",
    "    with open(file_path, 'r') as f:\n",
    "        data = json.load(f)\n",
    "    return data"
   ]
  },
  {
   "cell_type": "code",
   "execution_count": 4,
   "id": "768d06fc-e239-49d6-8df1-2586980d297e",
   "metadata": {},
   "outputs": [],
   "source": [
    "input_dir = '../../data/find_important_evo/vgg16-512-0.01-0.9/data'"
   ]
  },
  {
   "cell_type": "code",
   "execution_count": 5,
   "id": "27a5414f-bb85-450b-90b4-ac924d1b9a02",
   "metadata": {},
   "outputs": [],
   "source": [
    "def get_filename(label, from_epoch, to_epoch):\n",
    "    file_name = f'score-label={label}-find_num_sample_imgs=50-from=vgg16_512_0.01_0.9_{from_epoch}-to=vgg16_512_0.01_0.9_{to_epoch}.json'\n",
    "    return file_name"
   ]
  },
  {
   "cell_type": "code",
   "execution_count": 20,
   "id": "0f2418e5-a8ee-40a2-9cd4-dea6681c6848",
   "metadata": {},
   "outputs": [],
   "source": [
    "def get_score_dist(label, from_epoch, to_epoch, input_dir):\n",
    "    data = load_json(os.path.join(input_dir, get_filename(label, from_epoch, to_epoch)))\n",
    "    scores, total_num = {}, 0\n",
    "    for layer in data:\n",
    "        for neuron_info in data[layer]:\n",
    "            score = neuron_info['score']\n",
    "            if score not in scores:\n",
    "                scores[score] = 0\n",
    "            scores[score] += 1\n",
    "            total_num += 1\n",
    "    scores = sorted(scores.items(), key=lambda x: x[1])\n",
    "    \n",
    "    return scores, total_num"
   ]
  },
  {
   "cell_type": "code",
   "execution_count": 25,
   "id": "1a5d3299-e4a5-40ec-89dd-6deecb591b91",
   "metadata": {},
   "outputs": [],
   "source": [
    "def get_percent(scores, total_num, lowest):\n",
    "    top_num = 0\n",
    "    for score, num in scores:\n",
    "        if score < lowest:\n",
    "            break\n",
    "        top_num += num\n",
    "    return (top_num / total_num) * 100"
   ]
  },
  {
   "cell_type": "code",
   "execution_count": 27,
   "id": "e787d2e6-3159-42aa-aaa5-699331e45a5e",
   "metadata": {},
   "outputs": [
    {
     "name": "stdout",
     "output_type": "stream",
     "text": [
      "0.07888023630504834\n",
      "0.12922932330827067\n"
     ]
    }
   ],
   "source": [
    "# Fire engine\n",
    "label = 555\n",
    "scores, total_num = get_score_dist(label, 5, 21, input_dir)\n",
    "percent = get_percent(scores, total_num, 1.0)\n",
    "print(percent)\n",
    "scores, total_num = get_score_dist(label, 21, 207, input_dir)\n",
    "percent = get_percent(scores, total_num, 0.92)\n",
    "print(percent)"
   ]
  },
  {
   "cell_type": "code",
   "execution_count": 29,
   "id": "f7e0601a-004c-4950-abfb-ff6e45c5f523",
   "metadata": {},
   "outputs": [
    {
     "name": "stdout",
     "output_type": "stream",
     "text": [
      "0.02685284640171858\n",
      "0.15776047261009668\n"
     ]
    }
   ],
   "source": [
    "# Shetland sheepdog\n",
    "label = 230\n",
    "scores, total_num = get_score_dist(label, 5, 21, input_dir)\n",
    "percent = get_percent(scores, total_num, 0.98)\n",
    "print(percent)\n",
    "scores, total_num = get_score_dist(label, 21, 207, input_dir)\n",
    "percent = get_percent(scores, total_num, 0.88)\n",
    "print(percent)"
   ]
  },
  {
   "cell_type": "code",
   "execution_count": 31,
   "id": "fa799c68-7e8e-49b1-af96-d272d65af41a",
   "metadata": {},
   "outputs": [
    {
     "name": "stdout",
     "output_type": "stream",
     "text": [
      "0.010069817400644469\n",
      "0.08391514500537056\n"
     ]
    }
   ],
   "source": [
    "# Ladybug\n",
    "label = 301\n",
    "scores, total_num = get_score_dist(label, 5, 21, input_dir)\n",
    "percent = get_percent(scores, total_num, 0.96)\n",
    "print(percent)\n",
    "scores, total_num = get_score_dist(label, 21, 207, input_dir)\n",
    "percent = get_percent(scores, total_num, 0.90)\n",
    "print(percent)"
   ]
  },
  {
   "cell_type": "code",
   "execution_count": 33,
   "id": "b082c7f8-001a-4b89-831d-ea7d1b5b620d",
   "metadata": {},
   "outputs": [
    {
     "name": "stdout",
     "output_type": "stream",
     "text": [
      "0.03860096670247046\n",
      "0.22824919441460798\n"
     ]
    }
   ],
   "source": [
    "# Cassette\n",
    "label = 481\n",
    "scores, total_num = get_score_dist(label, 5, 21, input_dir)\n",
    "percent = get_percent(scores, total_num, 0.96)\n",
    "print(percent)\n",
    "scores, total_num = get_score_dist(label, 21, 207, input_dir)\n",
    "percent = get_percent(scores, total_num, 0.84)\n",
    "print(percent)"
   ]
  },
  {
   "cell_type": "code",
   "execution_count": 34,
   "id": "ee86e516-4b48-4fc1-9571-5058c45b457e",
   "metadata": {},
   "outputs": [
    {
     "name": "stdout",
     "output_type": "stream",
     "text": [
      "0.1040547798066595\n",
      "0.09230665950590763\n"
     ]
    }
   ],
   "source": [
    "# Oxcart\n",
    "label = 690\n",
    "scores, total_num = get_score_dist(label, 5, 21, input_dir)\n",
    "percent = get_percent(scores, total_num, 0.96)\n",
    "print(percent)\n",
    "scores, total_num = get_score_dist(label, 21, 207, input_dir)\n",
    "percent = get_percent(scores, total_num, 0.90)\n",
    "print(percent)"
   ]
  },
  {
   "cell_type": "code",
   "execution_count": 41,
   "id": "3c89047f-d167-4fbb-9851-22a9c5bff169",
   "metadata": {},
   "outputs": [
    {
     "name": "stdout",
     "output_type": "stream",
     "text": [
      "0.4833512352309345\n",
      "0.3490870032223416\n"
     ]
    }
   ],
   "source": [
    "# Payphone\n",
    "label = 707\n",
    "scores, total_num = get_score_dist(label, 5, 21, input_dir)\n",
    "percent = get_percent(scores, total_num, 0.90)\n",
    "print(percent)\n",
    "scores, total_num = get_score_dist(label, 21, 207, input_dir)\n",
    "percent = get_percent(scores, total_num, 0.82)\n",
    "print(percent)"
   ]
  },
  {
   "cell_type": "code",
   "execution_count": null,
   "id": "1a2e2d96-e3ce-4d0e-8e26-c81ad3a4f6ae",
   "metadata": {},
   "outputs": [],
   "source": []
  }
 ],
 "metadata": {
  "kernelspec": {
   "display_name": "Python 3 (ipykernel)",
   "language": "python",
   "name": "python3"
  },
  "language_info": {
   "codemirror_mode": {
    "name": "ipython",
    "version": 3
   },
   "file_extension": ".py",
   "mimetype": "text/x-python",
   "name": "python",
   "nbconvert_exporter": "python",
   "pygments_lexer": "ipython3",
   "version": "3.9.7"
  }
 },
 "nbformat": 4,
 "nbformat_minor": 5
}
