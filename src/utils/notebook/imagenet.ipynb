{
 "cells": [
  {
   "cell_type": "markdown",
   "metadata": {},
   "source": [
    "# Meta data of ImageNet"
   ]
  },
  {
   "cell_type": "markdown",
   "metadata": {},
   "source": [
    "## Import packages"
   ]
  },
  {
   "cell_type": "code",
   "execution_count": 36,
   "metadata": {},
   "outputs": [],
   "source": [
    "import os\n",
    "import json\n",
    "import pandas as pd\n",
    "from time import time\n",
    "from torchvision import datasets, transforms"
   ]
  },
  {
   "cell_type": "markdown",
   "metadata": {},
   "source": [
    "## Synset and labels"
   ]
  },
  {
   "cell_type": "code",
   "execution_count": 14,
   "metadata": {},
   "outputs": [
    {
     "data": {
      "text/html": [
       "<div>\n",
       "<style scoped>\n",
       "    .dataframe tbody tr th:only-of-type {\n",
       "        vertical-align: middle;\n",
       "    }\n",
       "\n",
       "    .dataframe tbody tr th {\n",
       "        vertical-align: top;\n",
       "    }\n",
       "\n",
       "    .dataframe thead th {\n",
       "        text-align: right;\n",
       "    }\n",
       "</style>\n",
       "<table border=\"1\" class=\"dataframe\">\n",
       "  <thead>\n",
       "    <tr style=\"text-align: right;\">\n",
       "      <th></th>\n",
       "      <th>label</th>\n",
       "      <th>synset</th>\n",
       "      <th>name</th>\n",
       "    </tr>\n",
       "  </thead>\n",
       "  <tbody>\n",
       "    <tr>\n",
       "      <th>0</th>\n",
       "      <td>0</td>\n",
       "      <td>n01440764</td>\n",
       "      <td>tench</td>\n",
       "    </tr>\n",
       "    <tr>\n",
       "      <th>1</th>\n",
       "      <td>1</td>\n",
       "      <td>n01443537</td>\n",
       "      <td>goldfish</td>\n",
       "    </tr>\n",
       "    <tr>\n",
       "      <th>2</th>\n",
       "      <td>2</td>\n",
       "      <td>n01484850</td>\n",
       "      <td>great_white_shark</td>\n",
       "    </tr>\n",
       "    <tr>\n",
       "      <th>3</th>\n",
       "      <td>3</td>\n",
       "      <td>n01491361</td>\n",
       "      <td>tiger_shark</td>\n",
       "    </tr>\n",
       "    <tr>\n",
       "      <th>4</th>\n",
       "      <td>4</td>\n",
       "      <td>n01494475</td>\n",
       "      <td>hammerhead</td>\n",
       "    </tr>\n",
       "  </tbody>\n",
       "</table>\n",
       "</div>"
      ],
      "text/plain": [
       "   label     synset               name\n",
       "0      0  n01440764              tench\n",
       "1      1  n01443537           goldfish\n",
       "2      2  n01484850  great_white_shark\n",
       "3      3  n01491361        tiger_shark\n",
       "4      4  n01494475         hammerhead"
      ]
     },
     "execution_count": 14,
     "metadata": {},
     "output_type": "execute_result"
    }
   ],
   "source": [
    "input_dir = '/raid/ILSVRC2012'\n",
    "imgnet_label_path = os.path.join(input_dir, 'labels.csv')\n",
    "imgnet_labels = pd.read_csv(imgnet_label_path, delimiter=',')\n",
    "imgnet_label_names = list(imgnet_labels['name'])\n",
    "imgnet_labels.head()"
   ]
  },
  {
   "cell_type": "markdown",
   "metadata": {},
   "source": [
    "## The range of image indices for each label"
   ]
  },
  {
   "cell_type": "code",
   "execution_count": 17,
   "metadata": {},
   "outputs": [],
   "source": [
    "raw_data_transform = transforms.Compose([\n",
    "    transforms.Resize((256, 256)),\n",
    "    transforms.ToTensor()\n",
    "])\n",
    "\n",
    "raw_training_datasets = datasets.ImageFolder(\n",
    "    '/raid/ILSVRC2012/train',\n",
    "    raw_data_transform\n",
    ")"
   ]
  },
  {
   "cell_type": "code",
   "execution_count": 32,
   "metadata": {},
   "outputs": [
    {
     "name": "stdout",
     "output_type": "stream",
     "text": [
      "label=10, 38.84259629249573 sec\n",
      "label=20, 70.30170917510986 sec\n",
      "label=30, 101.81908011436462 sec\n",
      "label=40, 136.60451292991638 sec\n",
      "label=50, 170.1962661743164 sec\n",
      "label=60, 206.33700466156006 sec\n",
      "label=70, 238.87628602981567 sec\n",
      "label=80, 273.4964699745178 sec\n",
      "label=90, 305.9244136810303 sec\n",
      "label=100, 337.67685317993164 sec\n",
      "label=110, 372.50727677345276 sec\n",
      "label=120, 405.01152324676514 sec\n",
      "label=130, 438.62482929229736 sec\n",
      "label=140, 472.8143413066864 sec\n",
      "label=150, 501.5061023235321 sec\n",
      "label=160, 524.3897187709808 sec\n",
      "label=170, 542.6838095188141 sec\n",
      "label=180, 567.4931437969208 sec\n",
      "label=190, 595.6252796649933 sec\n",
      "label=200, 621.6359202861786 sec\n",
      "label=210, 650.9297306537628 sec\n",
      "label=220, 681.6476080417633 sec\n",
      "label=230, 707.9849660396576 sec\n",
      "label=240, 739.2422184944153 sec\n",
      "label=250, 770.8499217033386 sec\n",
      "label=260, 798.4379773139954 sec\n",
      "label=270, 822.7389526367188 sec\n",
      "label=280, 853.6379222869873 sec\n",
      "label=290, 884.1477339267731 sec\n",
      "label=300, 916.8597981929779 sec\n",
      "label=310, 949.9033987522125 sec\n",
      "label=320, 980.7320930957794 sec\n",
      "label=330, 1015.022866487503 sec\n",
      "label=340, 1043.805989742279 sec\n",
      "label=350, 1074.8643276691437 sec\n",
      "label=360, 1102.5387461185455 sec\n",
      "label=370, 1133.550654888153 sec\n",
      "label=380, 1167.2850315570831 sec\n",
      "label=390, 1198.6444754600525 sec\n",
      "label=400, 1228.1072914600372 sec\n",
      "label=410, 1260.7430517673492 sec\n",
      "label=420, 1292.059947013855 sec\n",
      "label=430, 1321.5470070838928 sec\n",
      "label=440, 1353.1357553005219 sec\n",
      "label=450, 1383.8415870666504 sec\n",
      "label=460, 1414.1993126869202 sec\n",
      "label=470, 1444.4850130081177 sec\n",
      "label=480, 1479.1591544151306 sec\n",
      "label=490, 1507.9353942871094 sec\n",
      "label=500, 1536.588270664215 sec\n",
      "label=510, 1562.7160346508026 sec\n",
      "label=520, 1595.6936120986938 sec\n",
      "label=530, 1627.5129652023315 sec\n",
      "label=540, 1655.5846564769745 sec\n",
      "label=550, 1689.2508616447449 sec\n",
      "label=560, 1717.980120420456 sec\n",
      "label=570, 1750.8903753757477 sec\n",
      "label=580, 1785.9382956027985 sec\n",
      "label=590, 1815.4894268512726 sec\n",
      "label=600, 1841.996163368225 sec\n",
      "label=610, 1871.017751455307 sec\n",
      "label=620, 1901.8819901943207 sec\n",
      "label=630, 1930.7703444957733 sec\n",
      "label=640, 1955.6650767326355 sec\n",
      "label=650, 1987.6457467079163 sec\n",
      "label=660, 2017.6537845134735 sec\n",
      "label=670, 2046.440777540207 sec\n",
      "label=680, 2076.1098260879517 sec\n",
      "label=690, 2104.2987897396088 sec\n",
      "label=700, 2136.6762936115265 sec\n",
      "label=710, 2165.414984703064 sec\n",
      "label=720, 2193.9553520679474 sec\n",
      "label=730, 2219.790028333664 sec\n",
      "label=740, 2255.373940229416 sec\n",
      "label=750, 2285.7204344272614 sec\n",
      "label=760, 2319.685322523117 sec\n",
      "label=770, 2350.050718307495 sec\n",
      "label=780, 2379.8466489315033 sec\n",
      "label=790, 2411.574851036072 sec\n",
      "label=800, 2442.9873554706573 sec\n",
      "label=810, 2475.829555749893 sec\n",
      "label=820, 2503.103071451187 sec\n",
      "label=830, 2532.498105764389 sec\n",
      "label=840, 2560.547374010086 sec\n",
      "label=850, 2589.8600158691406 sec\n",
      "label=860, 2616.3474173545837 sec\n",
      "label=870, 2647.783318758011 sec\n",
      "label=880, 2678.9875888824463 sec\n",
      "label=890, 2711.0074956417084 sec\n",
      "label=900, 2739.194414138794 sec\n",
      "label=910, 2764.8906383514404 sec\n",
      "label=920, 2798.9785482883453 sec\n",
      "label=930, 2827.071324110031 sec\n",
      "label=940, 2861.2428815364838 sec\n",
      "label=950, 2894.1928281784058 sec\n",
      "label=960, 2925.2442026138306 sec\n",
      "label=970, 2956.370711326599 sec\n",
      "label=980, 2996.4224424362183 sec\n",
      "label=990, 3028.293174266815 sec\n"
     ]
    }
   ],
   "source": [
    "curr_label = 0\n",
    "label_idx = {\n",
    "    0: [0, -1]\n",
    "}\n",
    "total_num_imgs = len(raw_training_datasets)\n",
    "\n",
    "i = 0\n",
    "tic = time()\n",
    "while i < total_num_imgs:\n",
    "    img, label = raw_training_datasets[i]\n",
    "    if curr_label < label:\n",
    "        label_idx[curr_label][1] = i\n",
    "        curr_label = label\n",
    "        label_idx[curr_label] = [i, -1]\n",
    "        i += 850\n",
    "        if curr_label % 10 == 0:\n",
    "            toc = time()\n",
    "            print(f'label={curr_label}, {toc - tic} sec')\n",
    "    i += 1"
   ]
  },
  {
   "cell_type": "code",
   "execution_count": 34,
   "metadata": {},
   "outputs": [],
   "source": [
    "label_idx[999][1] = total_num_imgs"
   ]
  },
  {
   "cell_type": "code",
   "execution_count": 41,
   "metadata": {},
   "outputs": [],
   "source": [
    "with open('../ILSVRC2012_label_img_idx.json', 'w') as f:\n",
    "    json.dump(label_idx, f)"
   ]
  },
  {
   "cell_type": "code",
   "execution_count": null,
   "metadata": {},
   "outputs": [],
   "source": []
  }
 ],
 "metadata": {
  "kernelspec": {
   "display_name": "neuevo",
   "language": "python",
   "name": "neuevo"
  },
  "language_info": {
   "codemirror_mode": {
    "name": "ipython",
    "version": 3
   },
   "file_extension": ".py",
   "mimetype": "text/x-python",
   "name": "python",
   "nbconvert_exporter": "python",
   "pygments_lexer": "ipython3",
   "version": "3.9.7"
  }
 },
 "nbformat": 4,
 "nbformat_minor": 4
}
