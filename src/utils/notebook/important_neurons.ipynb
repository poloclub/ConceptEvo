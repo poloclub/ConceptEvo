{
 "cells": [
  {
   "cell_type": "code",
   "execution_count": 43,
   "id": "73866473-9da4-4e78-ab51-49f497481f43",
   "metadata": {},
   "outputs": [],
   "source": [
    "import json\n",
    "import matplotlib.pyplot as plt"
   ]
  },
  {
   "cell_type": "code",
   "execution_count": 68,
   "id": "32c90765-563b-4ac3-878f-3926d021ae12",
   "metadata": {},
   "outputs": [],
   "source": [
    "def load_json(p):\n",
    "    with open(p) as f:\n",
    "        data = json.load(f)\n",
    "    return data\n",
    "\n",
    "def sort_dict_by_nums_of_imgs(d):\n",
    "    items = sorted(d.items(), key=lambda x: len(x[1]['img_idxs']), reverse=True)\n",
    "    d = {key: val for key, val in items[50:]}\n",
    "    return d\n",
    "\n",
    "def gen_StochasticDepth_151_path(label):\n",
    "    return f'/raid/NeuEvo/data/important_neuron/convnext_pretrained/data/label={label}/StochasticDepth_151-topk_n=10.json'"
   ]
  },
  {
   "cell_type": "code",
   "execution_count": 69,
   "id": "952b6805-3d37-4634-b4e3-8e449ef79ba5",
   "metadata": {},
   "outputs": [],
   "source": [
    "labels = {\n",
    "    230: 'Shetland_sheepdog', \n",
    "    # 286: 'cougar', \n",
    "    384: 'Indri',\n",
    "    400: 'academic_gown', \n",
    "    457: 'bow_tie',\n",
    "    555: 'fire_engine'\n",
    "}\n",
    "\n",
    "data = {}\n",
    "for label in labels:\n",
    "    data[label] = {}\n",
    "    data[label][151] = load_json(gen_StochasticDepth_151_path(label))"
   ]
  },
  {
   "cell_type": "code",
   "execution_count": 72,
   "id": "f505ad2e-22ee-420f-b561-f0bb3a33f46b",
   "metadata": {},
   "outputs": [
    {
     "name": "stdout",
     "output_type": "stream",
     "text": [
      "230, Shetland_sheepdog\n",
      "StochasticDepth_151-513, 21\n",
      "StochasticDepth_151-515, 21\n",
      "StochasticDepth_151-603, 21\n",
      "StochasticDepth_151-276, 19\n",
      "StochasticDepth_151-595, 18\n",
      "StochasticDepth_151-223, 17\n",
      "StochasticDepth_151-426, 17\n",
      "StochasticDepth_151-486, 17\n",
      "StochasticDepth_151-675, 16\n",
      "StochasticDepth_151-678, 16\n",
      "StochasticDepth_151-390, 15\n",
      "StochasticDepth_151-632, 14\n",
      "StochasticDepth_151-417, 12\n",
      "StochasticDepth_151-43, 11\n",
      "StochasticDepth_151-313, 11\n",
      "StochasticDepth_151-287, 10\n",
      "StochasticDepth_151-296, 10\n",
      "StochasticDepth_151-562, 10\n",
      "StochasticDepth_151-219, 9\n",
      "StochasticDepth_151-592, 9\n",
      "StochasticDepth_151-734, 9\n",
      "StochasticDepth_151-160, 7\n",
      "StochasticDepth_151-201, 7\n",
      "StochasticDepth_151-280, 7\n",
      "StochasticDepth_151-308, 7\n",
      "StochasticDepth_151-393, 7\n",
      "StochasticDepth_151-482, 7\n",
      "StochasticDepth_151-540, 7\n",
      "StochasticDepth_151-605, 7\n",
      "StochasticDepth_151-618, 7\n",
      "StochasticDepth_151-3, 6\n",
      "StochasticDepth_151-17, 6\n",
      "StochasticDepth_151-169, 6\n",
      "StochasticDepth_151-419, 6\n",
      "StochasticDepth_151-554, 6\n",
      "StochasticDepth_151-616, 6\n",
      "StochasticDepth_151-50, 5\n",
      "StochasticDepth_151-53, 5\n",
      "StochasticDepth_151-103, 5\n",
      "StochasticDepth_151-178, 5\n",
      "StochasticDepth_151-420, 5\n",
      "StochasticDepth_151-461, 5\n",
      "StochasticDepth_151-535, 5\n",
      "StochasticDepth_151-543, 5\n",
      "StochasticDepth_151-209, 4\n",
      "StochasticDepth_151-214, 4\n",
      "StochasticDepth_151-222, 4\n",
      "StochasticDepth_151-491, 4\n",
      "StochasticDepth_151-537, 4\n",
      "StochasticDepth_151-567, 4\n",
      "\n",
      "\n",
      "384, Indri\n",
      "StochasticDepth_151-678, 19\n",
      "StochasticDepth_151-43, 18\n",
      "StochasticDepth_151-276, 17\n",
      "StochasticDepth_151-55, 16\n",
      "StochasticDepth_151-149, 16\n",
      "StochasticDepth_151-296, 16\n",
      "StochasticDepth_151-486, 16\n",
      "StochasticDepth_151-554, 16\n",
      "StochasticDepth_151-222, 15\n",
      "StochasticDepth_151-390, 15\n",
      "StochasticDepth_151-603, 15\n",
      "StochasticDepth_151-177, 14\n",
      "StochasticDepth_151-419, 14\n",
      "StochasticDepth_151-595, 14\n",
      "StochasticDepth_151-223, 13\n",
      "StochasticDepth_151-535, 13\n",
      "StochasticDepth_151-592, 13\n",
      "StochasticDepth_151-393, 12\n",
      "StochasticDepth_151-725, 12\n",
      "StochasticDepth_151-219, 11\n",
      "StochasticDepth_151-313, 11\n",
      "StochasticDepth_151-398, 11\n",
      "StochasticDepth_151-675, 11\n",
      "StochasticDepth_151-515, 10\n",
      "StochasticDepth_151-644, 10\n",
      "StochasticDepth_151-201, 9\n",
      "StochasticDepth_151-448, 9\n",
      "StochasticDepth_151-303, 8\n",
      "StochasticDepth_151-388, 8\n",
      "StochasticDepth_151-517, 8\n",
      "StochasticDepth_151-540, 8\n",
      "StochasticDepth_151-420, 7\n",
      "StochasticDepth_151-567, 7\n",
      "StochasticDepth_151-620, 7\n",
      "StochasticDepth_151-632, 7\n",
      "StochasticDepth_151-705, 7\n",
      "StochasticDepth_151-280, 6\n",
      "StochasticDepth_151-287, 6\n",
      "StochasticDepth_151-537, 6\n",
      "StochasticDepth_151-605, 6\n",
      "StochasticDepth_151-631, 6\n",
      "StochasticDepth_151-40, 5\n",
      "StochasticDepth_151-288, 5\n",
      "StochasticDepth_151-308, 5\n",
      "StochasticDepth_151-616, 5\n",
      "StochasticDepth_151-641, 5\n",
      "StochasticDepth_151-734, 5\n",
      "StochasticDepth_151-50, 4\n",
      "StochasticDepth_151-53, 4\n",
      "StochasticDepth_151-143, 4\n",
      "\n",
      "\n",
      "400, academic_gown\n",
      "StochasticDepth_151-560, 21\n",
      "StochasticDepth_151-603, 20\n",
      "StochasticDepth_151-276, 19\n",
      "StochasticDepth_151-486, 19\n",
      "StochasticDepth_151-49, 18\n",
      "StochasticDepth_151-219, 16\n",
      "StochasticDepth_151-632, 16\n",
      "StochasticDepth_151-223, 15\n",
      "StochasticDepth_151-304, 15\n",
      "StochasticDepth_151-395, 15\n",
      "StochasticDepth_151-535, 15\n",
      "StochasticDepth_151-734, 13\n",
      "StochasticDepth_151-390, 12\n",
      "StochasticDepth_151-592, 12\n",
      "StochasticDepth_151-287, 11\n",
      "StochasticDepth_151-288, 11\n",
      "StochasticDepth_151-540, 11\n",
      "StochasticDepth_151-417, 10\n",
      "StochasticDepth_151-420, 10\n",
      "StochasticDepth_151-222, 9\n",
      "StochasticDepth_151-388, 9\n",
      "StochasticDepth_151-398, 9\n",
      "StochasticDepth_151-426, 9\n",
      "StochasticDepth_151-250, 8\n",
      "StochasticDepth_151-178, 7\n",
      "StochasticDepth_151-419, 7\n",
      "StochasticDepth_151-448, 7\n",
      "StochasticDepth_151-539, 7\n",
      "StochasticDepth_151-675, 7\n",
      "StochasticDepth_151-103, 6\n",
      "StochasticDepth_151-209, 6\n",
      "StochasticDepth_151-214, 6\n",
      "StochasticDepth_151-258, 6\n",
      "StochasticDepth_151-296, 6\n",
      "StochasticDepth_151-482, 6\n",
      "StochasticDepth_151-529, 6\n",
      "StochasticDepth_151-537, 6\n",
      "StochasticDepth_151-3, 5\n",
      "StochasticDepth_151-17, 5\n",
      "StochasticDepth_151-40, 5\n",
      "StochasticDepth_151-50, 5\n",
      "StochasticDepth_151-53, 5\n",
      "StochasticDepth_151-152, 5\n",
      "StochasticDepth_151-278, 5\n",
      "StochasticDepth_151-280, 5\n",
      "StochasticDepth_151-477, 5\n",
      "StochasticDepth_151-515, 5\n",
      "StochasticDepth_151-160, 4\n",
      "StochasticDepth_151-179, 4\n",
      "StochasticDepth_151-252, 4\n",
      "\n",
      "\n",
      "457, bow_tie\n",
      "StochasticDepth_151-486, 16\n",
      "StochasticDepth_151-43, 15\n",
      "StochasticDepth_151-219, 15\n",
      "StochasticDepth_151-395, 15\n",
      "StochasticDepth_151-592, 15\n",
      "StochasticDepth_151-388, 14\n",
      "StochasticDepth_151-60, 13\n",
      "StochasticDepth_151-169, 13\n",
      "StochasticDepth_151-390, 13\n",
      "StochasticDepth_151-603, 13\n",
      "StochasticDepth_151-675, 13\n",
      "StochasticDepth_151-287, 12\n",
      "StochasticDepth_151-223, 10\n",
      "StochasticDepth_151-515, 10\n",
      "StochasticDepth_151-304, 9\n",
      "StochasticDepth_151-540, 9\n",
      "StochasticDepth_151-554, 9\n",
      "StochasticDepth_151-734, 8\n",
      "StochasticDepth_151-760, 8\n",
      "StochasticDepth_151-222, 7\n",
      "StochasticDepth_151-280, 7\n",
      "StochasticDepth_151-209, 6\n",
      "StochasticDepth_151-477, 6\n",
      "StochasticDepth_151-543, 6\n",
      "StochasticDepth_151-647, 6\n",
      "StochasticDepth_151-419, 5\n",
      "StochasticDepth_151-495, 5\n",
      "StochasticDepth_151-535, 5\n",
      "StochasticDepth_151-632, 5\n",
      "StochasticDepth_151-17, 4\n",
      "StochasticDepth_151-250, 4\n",
      "StochasticDepth_151-258, 4\n",
      "StochasticDepth_151-278, 4\n",
      "StochasticDepth_151-331, 4\n",
      "StochasticDepth_151-417, 4\n",
      "StochasticDepth_151-426, 4\n",
      "StochasticDepth_151-529, 4\n",
      "StochasticDepth_151-539, 4\n",
      "StochasticDepth_151-562, 4\n",
      "StochasticDepth_151-605, 4\n",
      "StochasticDepth_151-616, 4\n",
      "StochasticDepth_151-618, 4\n",
      "StochasticDepth_151-21, 3\n",
      "StochasticDepth_151-126, 3\n",
      "StochasticDepth_151-152, 3\n",
      "StochasticDepth_151-166, 3\n",
      "StochasticDepth_151-179, 3\n",
      "StochasticDepth_151-252, 3\n",
      "StochasticDepth_151-393, 3\n",
      "StochasticDepth_151-420, 3\n",
      "\n",
      "\n",
      "555, fire_engine\n",
      "StochasticDepth_151-388, 17\n",
      "StochasticDepth_151-513, 16\n",
      "StochasticDepth_151-43, 14\n",
      "StochasticDepth_151-276, 14\n",
      "StochasticDepth_151-222, 12\n",
      "StochasticDepth_151-486, 12\n",
      "StochasticDepth_151-562, 12\n",
      "StochasticDepth_151-219, 11\n",
      "StochasticDepth_151-515, 11\n",
      "StochasticDepth_151-448, 10\n",
      "StochasticDepth_151-560, 10\n",
      "StochasticDepth_151-603, 10\n",
      "StochasticDepth_151-223, 9\n",
      "StochasticDepth_151-390, 9\n",
      "StochasticDepth_151-395, 9\n",
      "StochasticDepth_151-675, 9\n",
      "StochasticDepth_151-21, 8\n",
      "StochasticDepth_151-539, 8\n",
      "StochasticDepth_151-540, 8\n",
      "StochasticDepth_151-53, 7\n",
      "StochasticDepth_151-280, 7\n",
      "StochasticDepth_151-303, 7\n",
      "StochasticDepth_151-426, 7\n",
      "StochasticDepth_151-495, 7\n",
      "StochasticDepth_151-543, 7\n",
      "StochasticDepth_151-554, 7\n",
      "StochasticDepth_151-169, 6\n",
      "StochasticDepth_151-258, 6\n",
      "StochasticDepth_151-287, 6\n",
      "StochasticDepth_151-595, 6\n",
      "StochasticDepth_151-632, 6\n",
      "StochasticDepth_151-3, 5\n",
      "StochasticDepth_151-143, 5\n",
      "StochasticDepth_151-288, 5\n",
      "StochasticDepth_151-419, 5\n",
      "StochasticDepth_151-734, 5\n",
      "StochasticDepth_151-40, 4\n",
      "StochasticDepth_151-50, 4\n",
      "StochasticDepth_151-152, 4\n",
      "StochasticDepth_151-179, 4\n",
      "StochasticDepth_151-209, 4\n",
      "StochasticDepth_151-252, 4\n",
      "StochasticDepth_151-308, 4\n",
      "StochasticDepth_151-313, 4\n",
      "StochasticDepth_151-330, 4\n",
      "StochasticDepth_151-379, 4\n",
      "StochasticDepth_151-418, 4\n",
      "StochasticDepth_151-482, 4\n",
      "StochasticDepth_151-529, 4\n",
      "StochasticDepth_151-537, 4\n",
      "\n",
      "\n"
     ]
    }
   ],
   "source": [
    "n = 50\n",
    "\n",
    "for label in labels:\n",
    "    print(f'{label}, {labels[label]}')\n",
    "    d = sort_dict_by_nums_of_imgs(data[label][151])\n",
    "    top_n = list(d.keys())[:n]\n",
    "    for k in top_n:\n",
    "        n_imgs = len(d[k]['img_idxs'])\n",
    "        print(f'{k}, {n_imgs}')    \n",
    "    print('\\n')"
   ]
  },
  {
   "cell_type": "code",
   "execution_count": 73,
   "id": "4a3d1977-94a4-47a7-a85f-da3a1d031010",
   "metadata": {},
   "outputs": [
    {
     "data": {
      "image/png": "[encoded data removed]",
      "text/plain": [
       "<Figure size 432x288 with 1 Axes>"
      ]
     },
     "metadata": {
      "needs_background": "light"
     },
     "output_type": "display_data"
    },
    {
     "data": {
      "image/png": "[encoded data removed]",
      "text/plain": [
       "<Figure size 432x288 with 1 Axes>"
      ]
     },
     "metadata": {
      "needs_background": "light"
     },
     "output_type": "display_data"
    },
    {
     "data": {
      "image/png": "[encoded data removed]",
      "text/plain": [
       "<Figure size 432x288 with 1 Axes>"
      ]
     },
     "metadata": {
      "needs_background": "light"
     },
     "output_type": "display_data"
    },
    {
     "data": {
      "image/png": "[encoded data removed]",
      "text/plain": [
       "<Figure size 432x288 with 1 Axes>"
      ]
     },
     "metadata": {
      "needs_background": "light"
     },
     "output_type": "display_data"
    },
    {
     "data": {
      "image/png": "[encoded data removed]",
      "text/plain": [
       "<Figure size 432x288 with 1 Axes>"
      ]
     },
     "metadata": {
      "needs_background": "light"
     },
     "output_type": "display_data"
    }
   ],
   "source": [
    "for label in labels:\n",
    "    d = data[label][151]\n",
    "    \n",
    "    plt.figure()\n",
    "    for neuron_idx, neuron in enumerate(d):\n",
    "        plt.vlines(x=neuron_idx, ymin=0, ymax=len(d[neuron]['img_idxs']))\n",
    "    \n",
    "    plt.title(f'{label}, {labels[label]}')\n",
    "    plt.xlabel('neuron')\n",
    "    plt.ylabel('importance (summit value)')\n",
    "    plt.show()"
   ]
  },
  {
   "cell_type": "code",
   "execution_count": 36,
   "id": "d2864e7b-6b95-4967-bfdf-0068d8ded2f7",
   "metadata": {},
   "outputs": [
    {
     "name": "stdout",
     "output_type": "stream",
     "text": [
      "StochasticDepth_151-513, 21\n",
      "StochasticDepth_151-595, 18\n",
      "StochasticDepth_151-296, 10\n",
      "StochasticDepth_151-160, 7\n",
      "StochasticDepth_151-201, 7\n",
      "StochasticDepth_151-308, 7\n",
      "StochasticDepth_151-482, 7\n",
      "StochasticDepth_151-3, 6\n",
      "StochasticDepth_151-50, 5\n",
      "StochasticDepth_151-53, 5\n",
      "StochasticDepth_151-103, 5\n",
      "StochasticDepth_151-178, 5\n",
      "StochasticDepth_151-461, 5\n",
      "StochasticDepth_151-214, 4\n",
      "StochasticDepth_151-491, 4\n",
      "StochasticDepth_151-537, 4\n",
      "StochasticDepth_151-567, 4\n"
     ]
    }
   ],
   "source": [
    "n = 100\n",
    "for i in list(d_230.keys())[:n]:\n",
    "    if i not in list(d_457.keys())[:n]:\n",
    "        n_imgs = len(d_230[i]['img_idxs'])\n",
    "        print(f'{i}, {n_imgs}')"
   ]
  },
  {
   "cell_type": "code",
   "execution_count": 20,
   "id": "de5bfe67-5426-4102-aa14-0b0de2898182",
   "metadata": {},
   "outputs": [
    {
     "data": {
      "text/plain": [
       "768"
      ]
     },
     "execution_count": 20,
     "metadata": {},
     "output_type": "execute_result"
    }
   ],
   "source": [
    "len(d_230.keys())"
   ]
  },
  {
   "cell_type": "code",
   "execution_count": null,
   "id": "22e3ac53-ee6d-474a-bbfb-05aa624742a8",
   "metadata": {},
   "outputs": [],
   "source": []
  }
 ],
 "metadata": {
  "kernelspec": {
   "display_name": "Python 3 (ipykernel)",
   "language": "python",
   "name": "python3"
  },
  "language_info": {
   "codemirror_mode": {
    "name": "ipython",
    "version": 3
   },
   "file_extension": ".py",
   "mimetype": "text/x-python",
   "name": "python",
   "nbconvert_exporter": "python",
   "pygments_lexer": "ipython3",
   "version": "3.9.7"
  }
 },
 "nbformat": 4,
 "nbformat_minor": 5
}
