{
 "cells": [
  {
   "cell_type": "code",
   "execution_count": 5,
   "metadata": {},
   "outputs": [],
   "source": [
    "import os\n",
    "import pandas as pd"
   ]
  },
  {
   "cell_type": "code",
   "execution_count": 4,
   "metadata": {},
   "outputs": [
    {
     "data": {
      "text/plain": [
       "['extract_multiple_tar.sh',\n",
       " 'ILSVRC2012_devkit_t12',\n",
       " 'labels.csv',\n",
       " 'imagenet-labels.txt',\n",
       " 'ILSVRC2012_img_val.tar',\n",
       " 'README.md',\n",
       " 'ILSVRC2012_img_test_v10102019.tar',\n",
       " 'train',\n",
       " 'ILSVRC2012_img_train.tar',\n",
       " 'ILSVRC2012_devkit_t3.tar.gz',\n",
       " 'test',\n",
       " 'train-tar',\n",
       " 'ILSVRC2012_img_train_t3.tar',\n",
       " 'val',\n",
       " 'val-by-class',\n",
       " 'ILSVRC2012_devkit_t12.tar.gz']"
      ]
     },
     "execution_count": 4,
     "metadata": {},
     "output_type": "execute_result"
    }
   ],
   "source": [
    "input_dir = '../../../ILSVRC2012'\n",
    "os.listdir(input_dir)"
   ]
  },
  {
   "cell_type": "code",
   "execution_count": 11,
   "metadata": {},
   "outputs": [
    {
     "data": {
      "text/html": [
       "<div>\n",
       "<style scoped>\n",
       "    .dataframe tbody tr th:only-of-type {\n",
       "        vertical-align: middle;\n",
       "    }\n",
       "\n",
       "    .dataframe tbody tr th {\n",
       "        vertical-align: top;\n",
       "    }\n",
       "\n",
       "    .dataframe thead th {\n",
       "        text-align: right;\n",
       "    }\n",
       "</style>\n",
       "<table border=\"1\" class=\"dataframe\">\n",
       "  <thead>\n",
       "    <tr style=\"text-align: right;\">\n",
       "      <th></th>\n",
       "      <th>synset</th>\n",
       "      <th>val_label</th>\n",
       "      <th>training_label</th>\n",
       "      <th>name</th>\n",
       "    </tr>\n",
       "  </thead>\n",
       "  <tbody>\n",
       "    <tr>\n",
       "      <th>0</th>\n",
       "      <td>n02119789</td>\n",
       "      <td>1</td>\n",
       "      <td>279</td>\n",
       "      <td>kit_fox</td>\n",
       "    </tr>\n",
       "    <tr>\n",
       "      <th>1</th>\n",
       "      <td>n02100735</td>\n",
       "      <td>2</td>\n",
       "      <td>213</td>\n",
       "      <td>English_setter</td>\n",
       "    </tr>\n",
       "    <tr>\n",
       "      <th>2</th>\n",
       "      <td>n02110185</td>\n",
       "      <td>3</td>\n",
       "      <td>251</td>\n",
       "      <td>Siberian_husky</td>\n",
       "    </tr>\n",
       "    <tr>\n",
       "      <th>3</th>\n",
       "      <td>n02096294</td>\n",
       "      <td>4</td>\n",
       "      <td>194</td>\n",
       "      <td>Australian_terrier</td>\n",
       "    </tr>\n",
       "    <tr>\n",
       "      <th>4</th>\n",
       "      <td>n02102040</td>\n",
       "      <td>5</td>\n",
       "      <td>218</td>\n",
       "      <td>English_springer</td>\n",
       "    </tr>\n",
       "  </tbody>\n",
       "</table>\n",
       "</div>"
      ],
      "text/plain": [
       "      synset  val_label  training_label                name\n",
       "0  n02119789          1             279             kit_fox\n",
       "1  n02100735          2             213      English_setter\n",
       "2  n02110185          3             251      Siberian_husky\n",
       "3  n02096294          4             194  Australian_terrier\n",
       "4  n02102040          5             218    English_springer"
      ]
     },
     "execution_count": 11,
     "metadata": {},
     "output_type": "execute_result"
    }
   ],
   "source": [
    "imgnet_labels = pd.read_csv(os.path.join(input_dir, 'imagenet-labels.txt'), delimiter='\\t')\n",
    "imgnet_labels.head()"
   ]
  },
  {
   "cell_type": "code",
   "execution_count": 13,
   "metadata": {},
   "outputs": [],
   "source": [
    "synset2training_label = {}\n",
    "val_label2synset = {}\n",
    "for synset, val_label, training_label in zip(imgnet_labels['synset'], imgnet_labels['val_label'], imgnet_labels['training_label']):\n",
    "    synset2training_label[synset] = training_label\n",
    "    val_label2synset[val_label] = synset"
   ]
  },
  {
   "cell_type": "code",
   "execution_count": 15,
   "metadata": {},
   "outputs": [],
   "source": [
    "# synset -> training_label\n",
    "val_dir = os.path.join(input_dir, 'val-by-class')\n",
    "for dirname in os.listdir(val_dir):\n",
    "    new_name = str(synset2training_label[dirname])\n",
    "    old_path = os.path.join(val_dir, dirname)\n",
    "    new_path = os.path.join(val_dir, new_name)\n",
    "    os.rename(old_path, new_path)"
   ]
  },
  {
   "cell_type": "code",
   "execution_count": 16,
   "metadata": {},
   "outputs": [],
   "source": [
    "# val_label -> synset\n",
    "for dirname in os.listdir(val_dir):\n",
    "    new_name = val_label2synset[int(dirname)]\n",
    "    old_path = os.path.join(val_dir, dirname)\n",
    "    new_path = os.path.join(val_dir, new_name)\n",
    "    os.rename(old_path, new_path)"
   ]
  },
  {
   "cell_type": "code",
   "execution_count": null,
   "metadata": {},
   "outputs": [],
   "source": []
  }
 ],
 "metadata": {
  "kernelspec": {
   "display_name": "neuevo",
   "language": "python",
   "name": "neuevo"
  },
  "language_info": {
   "codemirror_mode": {
    "name": "ipython",
    "version": 3
   },
   "file_extension": ".py",
   "mimetype": "text/x-python",
   "name": "python",
   "nbconvert_exporter": "python",
   "pygments_lexer": "ipython3",
   "version": "3.9.7"
  }
 },
 "nbformat": 4,
 "nbformat_minor": 4
}
