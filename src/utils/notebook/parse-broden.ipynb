{
 "cells": [
  {
   "cell_type": "markdown",
   "id": "a0938ca1-9cd0-4203-8b09-e236a204b6d7",
   "metadata": {},
   "source": [
    "# Import package"
   ]
  },
  {
   "cell_type": "code",
   "execution_count": 54,
   "id": "90c56477-3dac-44df-977f-58a86bbf5022",
   "metadata": {},
   "outputs": [],
   "source": [
    "import os\n",
    "import cv2\n",
    "import numpy as np\n",
    "from tqdm import tqdm\n",
    "import matplotlib.pyplot as plt"
   ]
  },
  {
   "cell_type": "markdown",
   "id": "7765e7c8-ca29-4cd7-b77f-e2476438d8c2",
   "metadata": {},
   "source": [
    "# Data path"
   ]
  },
  {
   "cell_type": "code",
   "execution_count": 17,
   "id": "a4a20128-dcb8-47a1-8edb-86a37068c7db",
   "metadata": {},
   "outputs": [],
   "source": [
    "root = '/raid/Broden/dataset/broden1_227'\n",
    "input_dir = os.path.join(root, 'images')\n",
    "output_dir = os.path.join(root, 'parsed_images/object')"
   ]
  },
  {
   "cell_type": "code",
   "execution_count": 7,
   "id": "3dbf32e2-cf2f-4c39-8066-d01266d1944e",
   "metadata": {},
   "outputs": [],
   "source": [
    "subdirs = ['ade20k', 'dtd', 'opensurfaces', 'pascal']\n",
    "categories = ['color', 'object', 'part', 'material', 'scene', 'texture']\n",
    "\n",
    "def include_category_in_name(file, categories):\n",
    "    for c in categories:\n",
    "        if c in file:\n",
    "            return True\n",
    "    return False"
   ]
  },
  {
   "cell_type": "code",
   "execution_count": 21,
   "id": "ee13fe6d-f3cd-40fc-baa1-28457d566fb4",
   "metadata": {},
   "outputs": [],
   "source": [
    "img_names = {}\n",
    "for subdir in subdirs:\n",
    "    dirpath = os.path.join(input_dir, subdir)\n",
    "    files = os.listdir(dirpath)\n",
    "    for file in files:\n",
    "        if include_category_in_name(file, categories) and 'object' in file:\n",
    "            img_name = file[:-11]\n",
    "            if os.path.exists(os.path.join(dirpath, f'{img_name}.png')):\n",
    "                img_p = os.path.join(dirpath, f'{img_name}.png')\n",
    "            elif os.path.exists(os.path.join(dirpath, f'{img_name}.jpg')):\n",
    "                img_p = os.path.join(dirpath, f'{img_name}.jpg')\n",
    "            img_names[img_name] = [img_p, os.path.join(dirpath, file)]"
   ]
  },
  {
   "cell_type": "code",
   "execution_count": 22,
   "id": "2ab63b6b-08bd-48a1-bdb5-b452c03e713b",
   "metadata": {},
   "outputs": [
    {
     "data": {
      "text/plain": [
       "['/raid/Broden/dataset/broden1_227/images/ade20k/ADE_train_00017899.jpg',\n",
       " '/raid/Broden/dataset/broden1_227/images/ade20k/ADE_train_00017899_object.png']"
      ]
     },
     "execution_count": 22,
     "metadata": {},
     "output_type": "execute_result"
    }
   ],
   "source": [
    "img_names['ADE_train_00017899']"
   ]
  },
  {
   "cell_type": "markdown",
   "id": "ad198a67-4bcb-45de-b6a5-f5adf69c7e63",
   "metadata": {},
   "source": [
    "# Parse image"
   ]
  },
  {
   "cell_type": "code",
   "execution_count": 55,
   "id": "3cbbeab3-5837-447a-8158-a2b82d218546",
   "metadata": {},
   "outputs": [
    {
     "name": "stderr",
     "output_type": "stream",
     "text": [
      "100%|█████████████████████████████████████████████████████████████████████████████████████████████████████████| 32313/32313 [3:58:32<00:00,  2.26it/s]\n"
     ]
    }
   ],
   "source": [
    "with tqdm(total=len(img_names)) as pbar:\n",
    "    for img_name in img_names:\n",
    "        img_p, obj_img_p = img_names[img_name]\n",
    "        img = cv2.resize(plt.imread(img_p), (256, 256))\n",
    "        obj_img = cv2.resize(plt.imread(obj_img_p), (256, 256))\n",
    "\n",
    "        if np.sum(obj_img) > 0:\n",
    "            masked_img = np.zeros((256, 256, 3))\n",
    "            for row in range(256):\n",
    "                for col in range(256):\n",
    "                    obj_pixel = obj_img[row, col, :]\n",
    "                    if np.sum(obj_pixel) > 0.1:\n",
    "                        masked_img[row, col] = img[row, col]\n",
    "            p = os.path.join(output_dir, f'{img_name}.jpg')\n",
    "            plt.imsave(p, masked_img / 255)\n",
    "        pbar.update(1)"
   ]
  },
  {
   "cell_type": "code",
   "execution_count": null,
   "id": "13cffec7-324d-440f-a304-9e1e3ada756c",
   "metadata": {},
   "outputs": [],
   "source": []
  }
 ],
 "metadata": {
  "kernelspec": {
   "display_name": "neuevo",
   "language": "python",
   "name": "neuevo"
  },
  "language_info": {
   "codemirror_mode": {
    "name": "ipython",
    "version": 3
   },
   "file_extension": ".py",
   "mimetype": "text/x-python",
   "name": "python",
   "nbconvert_exporter": "python",
   "pygments_lexer": "ipython3",
   "version": "3.9.7"
  }
 },
 "nbformat": 4,
 "nbformat_minor": 5
}
