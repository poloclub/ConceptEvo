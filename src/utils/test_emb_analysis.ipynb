{
 "cells": [
  {
   "cell_type": "code",
   "execution_count": 1,
   "id": "b6bf5fd6-4743-4b7c-ac13-332fd8b3538b",
   "metadata": {},
   "outputs": [],
   "source": [
    "import os\n",
    "import umap\n",
    "import json\n",
    "import numpy as np"
   ]
  },
  {
   "cell_type": "code",
   "execution_count": 2,
   "id": "881865dc-f384-49a1-811f-cfd40ae9a0fa",
   "metadata": {},
   "outputs": [],
   "source": [
    "# data_dir = '../../data/embedding/inception_v3_pretrained'\n",
    "# data_dir = '../../data/embedding/vgg16_pretrained'\n",
    "# data_dir = '../../data/embedding/inception_v3-512-0.5-0.9-121'\n",
    "data_dir = '../../data/embedding/vgg16-512-0.01-0.9-207'\n",
    "input_dir = os.path.join(data_dir, 'data')\n",
    "output_dir = os.path.join(data_dir, 'emb2d_data')"
   ]
  },
  {
   "cell_type": "code",
   "execution_count": 3,
   "id": "74434365-ccc4-468a-89e1-ae576a1e0e95",
   "metadata": {},
   "outputs": [
    {
     "data": {
      "text/plain": [
       "['proj_neuron_emb-dim=30.json',\n",
       " 'neuron_emb-vgg16_512_0.01_0.9_207-dim=30-lr_emb=0.01-num_emb_epochs=10-num_emb_negs=10.json',\n",
       " 'neuron_emb-vgg16_512_0.01_0.9_207-dim=30-lr_emb=0.05-num_emb_epochs=10000-num_emb_negs=3.json']"
      ]
     },
     "execution_count": 3,
     "metadata": {},
     "output_type": "execute_result"
    }
   ],
   "source": [
    "os.listdir(input_dir)"
   ]
  },
  {
   "cell_type": "code",
   "execution_count": 4,
   "id": "605f9b1a-90a8-4cca-b3fe-780bcb12bb11",
   "metadata": {},
   "outputs": [],
   "source": [
    "input_names = []\n",
    "for f in os.listdir(input_dir):\n",
    "    if 'neuron_emb' in f:\n",
    "        input_names.append(f)"
   ]
  },
  {
   "cell_type": "code",
   "execution_count": 5,
   "id": "d3ed7a67-4fdf-4bad-9fbb-d5b0054ddfef",
   "metadata": {},
   "outputs": [],
   "source": [
    "def load_json(file_path):\n",
    "    with open(file_path, 'r') as f:\n",
    "        data = json.load(f)\n",
    "    return data\n",
    "\n",
    "def save_json(data, file_path):\n",
    "    with open(file_path, 'w') as f:\n",
    "        json.dump(data, f)"
   ]
  },
  {
   "cell_type": "code",
   "execution_count": 6,
   "id": "bbaa06c3-b1e6-4ed5-86fa-8d99ced594a8",
   "metadata": {},
   "outputs": [
    {
     "name": "stdout",
     "output_type": "stream",
     "text": [
      "neuron_emb-vgg16_512_0.01_0.9_207-dim=30-lr_emb=0.01-num_emb_epochs=10-num_emb_negs=10.json\n",
      "neuron_emb-vgg16_512_0.01_0.9_207-dim=30-lr_emb=0.05-num_emb_epochs=10000-num_emb_negs=3.json\n"
     ]
    }
   ],
   "source": [
    "# input_names = [\n",
    "#     'neuron_emb-dim=30-lr_emb=0.01-num_emb_epochs=1000-num_emb_negs=2.json',\n",
    "#     'neuron_emb-dim=30-lr_emb=0.01-num_emb_epochs=2000-num_emb_negs=2.json',\n",
    "#     'neuron_emb-dim=30-lr_emb=0.01-num_emb_epochs=3000-num_emb_negs=2.json',\n",
    "#     'neuron_emb-dim=30-lr_emb=0.01-num_emb_epochs=4000-num_emb_negs=2.json',\n",
    "#     'neuron_emb-dim=30-lr_emb=0.01-num_emb_epochs=5000-num_emb_negs=2.json',\n",
    "#     'neuron_emb-dim=30-lr_emb=0.01-num_emb_epochs=6000-num_emb_negs=2.json',\n",
    "#     'neuron_emb-dim=30-lr_emb=0.01-num_emb_epochs=7000-num_emb_negs=2.json'\n",
    "# ]\n",
    "\n",
    "# input_names = [\n",
    "#     'proj_neuron_emb-vgg16_pretrained-dim=30.json'\n",
    "# ]\n",
    "\n",
    "# input_names = [\n",
    "#     'proj_neuron_emb-inception_v3_512_0.5_0.9_121-dim=30.json'\n",
    "# ]\n",
    "\n",
    "input_names = [\n",
    " 'neuron_emb-vgg16_512_0.01_0.9_207-dim=30-lr_emb=0.01-num_emb_epochs=10-num_emb_negs=10.json',\n",
    " 'neuron_emb-vgg16_512_0.01_0.9_207-dim=30-lr_emb=0.05-num_emb_epochs=10000-num_emb_negs=3.json'\n",
    "]\n",
    "\n",
    "for input_name in input_names:\n",
    "    print(input_name)\n",
    "    \n",
    "    # Load the embedding data\n",
    "    input_path = os.path.join(input_dir, input_name)\n",
    "    data = load_json(input_path)\n",
    "    num_neurons = len(data)\n",
    "    dim = len(data[list(data.keys())[0]])\n",
    "    \n",
    "    # Stacked embedding vectors\n",
    "    X = np.zeros((num_neurons, dim))\n",
    "    ids = []\n",
    "    for i, neuron in enumerate(data):\n",
    "        ids.append(neuron)\n",
    "        X[i] = data[neuron]\n",
    "\n",
    "    # 2D embedding\n",
    "    reducer = umap.UMAP()\n",
    "    embedding = reducer.fit_transform(X)\n",
    "    \n",
    "    # Save results\n",
    "    results = {}\n",
    "    for i, neuron in enumerate(ids):\n",
    "        results[neuron] = embedding[i].tolist()\n",
    "    # file_path = os.path.join(output_dir, input_name.replace('neuron_emb', 'emb2d'))\n",
    "    file_path = os.path.join(output_dir, input_name.replace('proj_neuron_emb', 'proj_neuron_emb2d'))\n",
    "    save_json(results, file_path)"
   ]
  },
  {
   "cell_type": "code",
   "execution_count": 7,
   "id": "130c1500-3347-449f-af8a-eae8667eeecc",
   "metadata": {},
   "outputs": [
    {
     "data": {
      "text/plain": [
       "['emb2d-vgg16_512_0.01_0.9_207-dim=30-model_for_emb_space=base.json',\n",
       " 'neuron_emb-vgg16_512_0.01_0.9_207-dim=30-lr_emb=0.01-num_emb_epochs=10-num_emb_negs=10.json',\n",
       " 'neuron_emb-vgg16_512_0.01_0.9_207-dim=30-lr_emb=0.05-num_emb_epochs=10000-num_emb_negs=3.json']"
      ]
     },
     "execution_count": 7,
     "metadata": {},
     "output_type": "execute_result"
    }
   ],
   "source": [
    "os.listdir(output_dir)"
   ]
  },
  {
   "cell_type": "code",
   "execution_count": null,
   "id": "6c0e1739-48b3-4fa2-9e47-006895f0adf8",
   "metadata": {},
   "outputs": [],
   "source": []
  }
 ],
 "metadata": {
  "kernelspec": {
   "display_name": "neuevo",
   "language": "python",
   "name": "neuevo"
  },
  "language_info": {
   "codemirror_mode": {
    "name": "ipython",
    "version": 3
   },
   "file_extension": ".py",
   "mimetype": "text/x-python",
   "name": "python",
   "nbconvert_exporter": "python",
   "pygments_lexer": "ipython3",
   "version": "3.9.7"
  }
 },
 "nbformat": 4,
 "nbformat_minor": 5
}
