{
 "cells": [
  {
   "cell_type": "code",
   "execution_count": 1,
   "id": "b6bf5fd6-4743-4b7c-ac13-332fd8b3538b",
   "metadata": {},
   "outputs": [],
   "source": [
    "import os\n",
    "import umap\n",
    "import json\n",
    "import numpy as np"
   ]
  },
  {
   "cell_type": "code",
   "execution_count": 2,
   "id": "881865dc-f384-49a1-811f-cfd40ae9a0fa",
   "metadata": {},
   "outputs": [],
   "source": [
    "data_dir = '../../data/embedding/inception_v3_pretrained'\n",
    "input_dir = os.path.join(data_dir, 'data')\n",
    "output_dir = os.path.join(data_dir, 'emb2d_data')"
   ]
  },
  {
   "cell_type": "code",
   "execution_count": 3,
   "id": "605f9b1a-90a8-4cca-b3fe-780bcb12bb11",
   "metadata": {},
   "outputs": [],
   "source": [
    "input_names = []\n",
    "for f in os.listdir(input_dir):\n",
    "    if 'neuron_emb' in f:\n",
    "        input_names.append(f)"
   ]
  },
  {
   "cell_type": "code",
   "execution_count": 4,
   "id": "d3ed7a67-4fdf-4bad-9fbb-d5b0054ddfef",
   "metadata": {},
   "outputs": [],
   "source": [
    "def load_json(file_path):\n",
    "    with open(file_path, 'r') as f:\n",
    "        data = json.load(f)\n",
    "    return data\n",
    "\n",
    "def save_json(data, file_path):\n",
    "    with open(file_path, 'w') as f:\n",
    "        json.dump(data, f)"
   ]
  },
  {
   "cell_type": "code",
   "execution_count": 9,
   "id": "bbaa06c3-b1e6-4ed5-86fa-8d99ced594a8",
   "metadata": {},
   "outputs": [
    {
     "name": "stdout",
     "output_type": "stream",
     "text": [
      "neuron_emb-dim=30-lr_emb=0.1-num_emb_epochs=1000-num_emb_negs=5.json\n"
     ]
    }
   ],
   "source": [
    "for input_name in input_names:\n",
    "    if input_name != 'neuron_emb-dim=30-lr_emb=0.1-num_emb_epochs=1000-num_emb_negs=5.json':\n",
    "        continue\n",
    "    print(input_name)\n",
    "    \n",
    "    # Load the embedding data\n",
    "    input_path = os.path.join(input_dir, input_name)\n",
    "    data = load_json(input_path)\n",
    "    num_neurons = len(data)\n",
    "    dim = len(data[list(data.keys())[0]])\n",
    "    \n",
    "    # Stacked embedding vectors\n",
    "    X = np.zeros((num_neurons, dim))\n",
    "    ids = []\n",
    "    for i, neuron in enumerate(data):\n",
    "        ids.append(neuron)\n",
    "        X[i] = data[neuron]\n",
    "\n",
    "    # 2D embedding\n",
    "    reducer = umap.UMAP()\n",
    "    embedding = reducer.fit_transform(X)\n",
    "    \n",
    "    # Save results\n",
    "    results = {}\n",
    "    for i, neuron in enumerate(ids):\n",
    "        results[neuron] = embedding[i].tolist()\n",
    "    file_path = os.path.join(output_dir, input_name.replace('neuron_emb', 'emb2d'))\n",
    "    save_json(results, file_path)"
   ]
  },
  {
   "cell_type": "code",
   "execution_count": null,
   "id": "db31ec15-70d5-466e-b551-b4f00759bc98",
   "metadata": {},
   "outputs": [],
   "source": []
  },
  {
   "cell_type": "code",
   "execution_count": null,
   "id": "091791b2-0947-4e1e-a66a-fdb181002268",
   "metadata": {},
   "outputs": [],
   "source": []
  }
 ],
 "metadata": {
  "kernelspec": {
   "display_name": "neuevo",
   "language": "python",
   "name": "neuevo"
  },
  "language_info": {
   "codemirror_mode": {
    "name": "ipython",
    "version": 3
   },
   "file_extension": ".py",
   "mimetype": "text/x-python",
   "name": "python",
   "nbconvert_exporter": "python",
   "pygments_lexer": "ipython3",
   "version": "3.9.7"
  }
 },
 "nbformat": 4,
 "nbformat_minor": 5
}
